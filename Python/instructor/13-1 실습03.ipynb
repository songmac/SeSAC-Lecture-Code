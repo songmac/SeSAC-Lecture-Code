{
 "cells": [
  {
   "cell_type": "code",
   "execution_count": 19,
   "metadata": {},
   "outputs": [
    {
     "name": "stdout",
     "output_type": "stream",
     "text": [
      "[[1, 2], [3, 4], [5, 6]]\n"
     ]
    }
   ],
   "source": [
    "\"\"\"\n",
    "조합해야 하는 순서\n",
    "i : 1 3 5 \n",
    "j : 0 1\n",
    "\"\"\"\n",
    "a = []\n",
    "for i in range(1, 6, 2): \n",
    "    temp = []\n",
    "    for j in range(2):\n",
    "        temp.append(i+j)\n",
    "    a.append(temp)\n",
    "print(a)"
   ]
  },
  {
   "cell_type": "code",
   "execution_count": 20,
   "metadata": {},
   "outputs": [
    {
     "name": "stdout",
     "output_type": "stream",
     "text": [
      "[[1, 2], [3, 4], [5, 6]]\n"
     ]
    }
   ],
   "source": [
    "a = []\n",
    "\n",
    "count = 1\n",
    "\n",
    "for i in range(3):\n",
    "    temp = [] \n",
    "    for j in range(2):\n",
    "        temp.append(count)\n",
    "        count += 1\n",
    "    a.append(temp)\n",
    "\n",
    "print(a)\n"
   ]
  }
 ],
 "metadata": {
  "kernelspec": {
   "display_name": "Python 3 (ipykernel)",
   "language": "python",
   "name": "python3"
  },
  "language_info": {
   "codemirror_mode": {
    "name": "ipython",
    "version": 3
   },
   "file_extension": ".py",
   "mimetype": "text/x-python",
   "name": "python",
   "nbconvert_exporter": "python",
   "pygments_lexer": "ipython3",
   "version": "3.12.4"
  }
 },
 "nbformat": 4,
 "nbformat_minor": 2
}
