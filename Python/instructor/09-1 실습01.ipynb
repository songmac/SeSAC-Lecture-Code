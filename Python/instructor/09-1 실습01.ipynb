{
 "cells": [
  {
   "cell_type": "code",
   "execution_count": null,
   "metadata": {},
   "outputs": [],
   "source": [
    "A = {\"Alice\", \"Bob\", \"Charlie\", \"David\"}\n",
    "B = {\"Eve\", \"Frank\", \"Charlie\", \"David\"}\n",
    "\n",
    "print(\"두 학급에 모두 속한 학생:\", A & B)\n",
    "print(\"두 학급 중 하나에만 속한 학생:\", A ^ B)\n",
    "print(\"학급 A에만 속한 학생:\", A - B)\n",
    "print(\"학급 B에만 속한 학생:\", B - A)\n",
    "print(\"두 학급의 모든 학생:\", A | B)"
   ]
  }
 ],
 "metadata": {
  "language_info": {
   "name": "python"
  }
 },
 "nbformat": 4,
 "nbformat_minor": 2
}
