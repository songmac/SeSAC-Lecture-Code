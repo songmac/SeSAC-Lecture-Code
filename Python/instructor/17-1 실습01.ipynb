{
 "cells": [
  {
   "cell_type": "code",
   "execution_count": 4,
   "metadata": {},
   "outputs": [
    {
     "data": {
      "text/plain": [
       "[0, 3, 6]"
      ]
     },
     "execution_count": 4,
     "metadata": {},
     "output_type": "execute_result"
    }
   ],
   "source": [
    "def allindex(lis, x):\n",
    "\n",
    "    idx_list = []\n",
    "    for idx, val in enumerate(lis):\n",
    "        if val == x:\n",
    "            idx_list.append(idx)\n",
    "    \n",
    "    return idx_list\n",
    "\n",
    "lis = [1, 2, 3, 1, 4, 2, 1]\n",
    "allindex(lis, 1)"
   ]
  }
 ],
 "metadata": {
  "kernelspec": {
   "display_name": "Python 3 (ipykernel)",
   "language": "python",
   "name": "python3"
  }
 },
 "nbformat": 4,
 "nbformat_minor": 2
}
