{
 "cells": [
  {
   "cell_type": "markdown",
   "metadata": {},
   "source": [
    "아래 두 리스트를 곱해 새로운 리스트 C 를 만드세요 <br>\n",
    "a = [[10, 20], [30, 40], [50, 60]] <br>\n",
    "b = [[2, 3], [4, 5], [6, 7]] <br>\n"
   ]
  },
  {
   "cell_type": "code",
   "execution_count": 12,
   "metadata": {},
   "outputs": [
    {
     "name": "stdout",
     "output_type": "stream",
     "text": [
      "[[20, 60], [120, 200], [300, 420]]\n"
     ]
    }
   ],
   "source": [
    "a = [[10, 20], [30, 40], [50, 60]] \n",
    "b = [[2, 3], [4, 5], [6, 7]]       \n",
    "c = [] \n",
    "\n",
    "for i in range(len(a)):\n",
    "    temp = []\n",
    "    for j in range(len(a[i])):\n",
    "        temp.append(a[i][j]*b[i][j])\n",
    "    c.append(temp)\n",
    "\n",
    "print(c)\n"
   ]
  },
  {
   "cell_type": "code",
   "execution_count": 17,
   "metadata": {},
   "outputs": [
    {
     "name": "stdout",
     "output_type": "stream",
     "text": [
      "[[20, 60], [120, 200], [300, 420]]\n"
     ]
    }
   ],
   "source": [
    "a = [[10, 20], [30, 40], [50, 60]] \n",
    "b = [[2, 3], [4, 5], [6, 7]]        \n",
    "\n",
    "c = [[a[i][j]*b[i][j] for j in range(len(a[i]))] for i in range(len(a))]\n",
    "\n",
    "print(c)\n"
   ]
  }
 ],
 "metadata": {
  "kernelspec": {
   "display_name": "Python 3",
   "language": "python",
   "name": "python3"
  },
  "language_info": {
   "codemirror_mode": {
    "name": "ipython",
    "version": 3
   },
   "file_extension": ".py",
   "mimetype": "text/x-python",
   "name": "python",
   "nbconvert_exporter": "python",
   "pygments_lexer": "ipython3",
   "version": "3.12.4"
  }
 },
 "nbformat": 4,
 "nbformat_minor": 2
}
