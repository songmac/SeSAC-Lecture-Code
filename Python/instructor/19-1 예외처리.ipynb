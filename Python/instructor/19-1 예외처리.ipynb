{
 "cells": [
  {
   "cell_type": "markdown",
   "metadata": {},
   "source": [
    "# 예외처리"
   ]
  },
  {
   "cell_type": "markdown",
   "metadata": {},
   "source": [
    "### 예외 발생"
   ]
  },
  {
   "cell_type": "code",
   "execution_count": 1,
   "metadata": {},
   "outputs": [
    {
     "ename": "ZeroDivisionError",
     "evalue": "division by zero",
     "output_type": "error",
     "traceback": [
      "\u001b[1;31m--------------------------------------------------------------------\u001b[0m",
      "\u001b[1;31mZeroDivisionError\u001b[0m                  Traceback (most recent call last)",
      "Cell \u001b[1;32mIn[1], line 1\u001b[0m\n\u001b[1;32m----> 1\u001b[0m \u001b[38;5;28mprint\u001b[39m(\u001b[38;5;241m10\u001b[39m\u001b[38;5;241m/\u001b[39m\u001b[38;5;241m0\u001b[39m)\n",
      "\u001b[1;31mZeroDivisionError\u001b[0m: division by zero"
     ]
    }
   ],
   "source": [
    "print(10/0)"
   ]
  },
  {
   "cell_type": "markdown",
   "metadata": {},
   "source": [
    "### 예외 처리"
   ]
  },
  {
   "cell_type": "code",
   "execution_count": 3,
   "metadata": {},
   "outputs": [
    {
     "name": "stdout",
     "output_type": "stream",
     "text": [
      "예외오류발생\n"
     ]
    }
   ],
   "source": [
    "\"\"\"\n",
    "숫자를 0으로 나누는게 수학적으로 오류인 이유\n",
    "- 곱셉, 나눗셈으로 정의 되지 않음. \n",
    "- 무한대의 개념이 됨. \n",
    "- 실수와 분수 영역에서 분모가 0 이되는 것은 정의되지 않음\n",
    "\"\"\"\n",
    "\n",
    "# 밑의 ~를 제외(except)하고는 위에 해(try)라\n",
    "\n",
    "try:\n",
    "    print(10/0) # 실행할 코드\n",
    "except:\n",
    "    print(\"예외오류발생\") # 예외발생시 코드\n"
   ]
  },
  {
   "cell_type": "markdown",
   "metadata": {},
   "source": [
    "### 특정예외만 처리"
   ]
  },
  {
   "cell_type": "code",
   "execution_count": 5,
   "metadata": {},
   "outputs": [
    {
     "name": "stdout",
     "output_type": "stream",
     "text": [
      "숫자를 0으로 나눌 수 없음 division by zero\n"
     ]
    }
   ],
   "source": [
    "\"\"\"\n",
    "Python은 try 첫 줄부터 순차적으로 코드를 실행. \n",
    "실행 과정에서 예외가 발생하면, Python은 즉시 해당 예외를 찾아 \n",
    "try 블록의 나머지 부분을 건너뛰고, 적절한 except 블록으로 이동하여 예외 처리를 시도.\n",
    "그 후 해당 예외가 처리될 때까지 try 블록의 나머지 코드는 실행되지 않음.\n",
    "\"\"\"\n",
    "\n",
    "\"\"\"\n",
    "'as e' 구문\n",
    "- 발생한 예외를 변수 e에 할당\n",
    "- e 변수를 통해 예외 메시지(e.args 또는 str(e))에 접근\n",
    "\"\"\"\n",
    "\n",
    "x = [1, 2, 3]\n",
    "\n",
    "try:\n",
    "    print(10/0)\n",
    "    x[5]\n",
    "\n",
    "except ZeroDivisionError as e: # 발생한 예외를 e변수에 할당\n",
    "    print(\"숫자를 0으로 나눌 수 없음\", e)\n",
    "\n",
    "except IndexError as e:\n",
    "    print(\"잘못된 인덱스\", e)"
   ]
  },
  {
   "cell_type": "markdown",
   "metadata": {},
   "source": [
    "### else와 finally"
   ]
  },
  {
   "cell_type": "code",
   "execution_count": 6,
   "metadata": {},
   "outputs": [
    {
     "name": "stdout",
     "output_type": "stream",
     "text": [
      "예외오류발생\n",
      "무조건 실행\n"
     ]
    }
   ],
   "source": [
    "try:\n",
    "    print(10/0)\n",
    "except:\n",
    "    print(\"예외오류발생\")\n",
    "else:\n",
    "    print(\"오류발생하지 않음\")\n",
    "finally:\n",
    "    print(\"무조건 실행\")"
   ]
  },
  {
   "cell_type": "markdown",
   "metadata": {},
   "source": [
    "### raise"
   ]
  },
  {
   "cell_type": "code",
   "execution_count": 10,
   "metadata": {},
   "outputs": [
    {
     "name": "stdout",
     "output_type": "stream",
     "text": [
      "예외발생내용 예외강제발생\n"
     ]
    }
   ],
   "source": [
    "\"\"\"\n",
    "1. try 문에는 예외가 발생할 가능성이 있는 코드가 포함\n",
    "2. raise 키워드를 사용하여 예외를 명시적으로 발생시킬 수 있음\n",
    "    raise : 일부러 에러 발생\n",
    "    - 특정 조건에서 프로그램의 흐름을 의도적으로 중단 \n",
    "    - 문제를 식별하기 위한 메시지를 제공 할 때 유용하게 쓰임\n",
    "3. except 블록에서는 발생한 예외를 처리\n",
    "\"\"\"\n",
    "try:\n",
    "    raise Exception(\"예외강제발생\")\n",
    "except Exception as e: # 에러 발생 시 어떻게 처리할 지 지정\n",
    "    print(\"예외발생\", e)"
   ]
  },
  {
   "cell_type": "code",
   "execution_count": 15,
   "metadata": {},
   "outputs": [
    {
     "name": "stdout",
     "output_type": "stream",
     "text": [
      "예외발생 나의오류\n"
     ]
    }
   ],
   "source": [
    "\"\"\"\n",
    "사용자 정의 예외 클래스 만들기\n",
    "- Exception 클래스를 상속받기\n",
    "- Python의 표준 예외 처리 메커니즘과 호환\n",
    "\"\"\"\n",
    "\n",
    "class MyError(Exception):\n",
    "    def __init__(self): \n",
    "        super().__init__(\"나의오류\")\n",
    "\n",
    "try:\n",
    "    raise MyError\n",
    "except Exception as e:\n",
    "    print(\"예외발생\", e)"
   ]
  },
  {
   "cell_type": "code",
   "execution_count": 16,
   "metadata": {},
   "outputs": [
    {
     "name": "stdout",
     "output_type": "stream",
     "text": [
      "예외발생 나의오류\n"
     ]
    }
   ],
   "source": [
    "\"\"\"\n",
    "사용자 정의 예외 클래스 만들기\n",
    "- Exception 클래스를 상속받기\n",
    "- Python의 표준 예외 처리 메커니즘과 호환\n",
    "\"\"\"\n",
    "\n",
    "class MyError(Exception):\n",
    "    def __init__(self, message): # Exception의 자식클래스 설정\n",
    "        super().__init__(message) # message : 예외와 관련된 메세지를 전달받는 매개변수\n",
    "\n",
    "try:\n",
    "    raise MyError(\"나의오류\")\n",
    "except Exception as e:\n",
    "    print(\"예외발생\", e)"
   ]
  }
 ],
 "metadata": {
  "kernelspec": {
   "display_name": "Python 3 (ipykernel)",
   "language": "python",
   "name": "python3"
  }
 },
 "nbformat": 4,
 "nbformat_minor": 2
}
