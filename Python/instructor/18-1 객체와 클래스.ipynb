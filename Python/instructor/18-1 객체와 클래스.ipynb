{
 "cells": [
  {
   "cell_type": "markdown",
   "metadata": {},
   "source": [
    "# 객체와 클래스"
   ]
  },
  {
   "cell_type": "markdown",
   "metadata": {},
   "source": [
    "- 현실 세계 객체 추상화\n",
    "- 코드 재사용성 \n",
    "- 유지 보수 용이\n",
    "- 데이터 캡슐화 (필요한 부분만 외부에 공개)"
   ]
  },
  {
   "cell_type": "code",
   "execution_count": 18,
   "metadata": {},
   "outputs": [
    {
     "name": "stdout",
     "output_type": "stream",
     "text": [
      "------choco 활동 이력------\n",
      "밥먹음  -10\n",
      "밥먹음  -20\n",
      "산책  -10\n",
      "------choco랑 jjong 상태------\n",
      "choco 배고픔 :  -10\n",
      "jjong 배고픔 :  0\n"
     ]
    }
   ],
   "source": [
    "class Dog:\n",
    "    \"\"\"\n",
    "    생성자의 필요성\n",
    "    - 초기값 설정/변경의 불편함 -> 버그 발생 가능성 높음\n",
    "    - 상속 시에도 일관된 초기화가 어려워짐\n",
    "    \"\"\"\n",
    "    def __init__(self, name, color):\n",
    "        self.hungry = 0 # 인스턴스 속성(=객체 변수)\n",
    "        self.name = name\n",
    "        self.color = color\n",
    "\n",
    "    def eat(self): # 인스턴스 메서드\n",
    "        self.hungry -= 10\n",
    "        print(\"밥먹음 \", self.hungry)\n",
    "    \n",
    "    def walk(self):\n",
    "        self.hungry += 10\n",
    "        print(\"산책 \", self.hungry)\n",
    "\n",
    "\n",
    "choco = Dog(\"choco\", \"black\") # 인스턴스 생성(=객체 생성)\n",
    "jjong = Dog(\"jjong\", \"white\")\n",
    "\n",
    "print(\"------choco 활동 이력------\")\n",
    "choco.eat() # 메서드 호출\n",
    "choco.eat()\n",
    "choco.walk()\n",
    "\n",
    "print(\"------choco랑 jjong 상태------\")\n",
    "print(\"choco 배고픔 : \", choco.hungry) # 인스턴스 속성 접근 및 출력\n",
    "print(\"jjong 배고픔 : \", jjong.hungry)"
   ]
  },
  {
   "cell_type": "markdown",
   "metadata": {},
   "source": [
    "### 비공개 속성 (private attribute)"
   ]
  },
  {
   "cell_type": "code",
   "execution_count": 14,
   "metadata": {},
   "outputs": [
    {
     "name": "stdout",
     "output_type": "stream",
     "text": [
      "------mery 활동 이력------\n",
      "배가 너무 불러요!\n",
      "산책  10\n",
      "산책  20\n",
      "------mery 상태------\n",
      "mery 배고픔 : 20\n"
     ]
    }
   ],
   "source": [
    "class Dog:\n",
    "    def __init__(self, name, color):\n",
    "        self.name = name\n",
    "        self.color = color\n",
    "        self.__hungry = 0 # 비공개 속성(__:prefix)\n",
    "    \n",
    "    def eat(self):\n",
    "        if self.__hungry <= 0:\n",
    "            print(\"배가 너무 불러요!\")\n",
    "        else:\n",
    "            self.__hungry -= 10\n",
    "            print(\"밥먹음 \", self.__hungry)\n",
    "\n",
    "    def walk(self):\n",
    "        self.__hungry += 10\n",
    "        print(\"산책 \", self.__hungry)\n",
    "\n",
    "    def condition(self):\n",
    "        print(f\"{self.name} 배고픔 : {self.__hungry}\")\n",
    "\n",
    "\n",
    "mery = Dog(\"mery\", \"black\")\n",
    "print(\"------mery 활동 이력------\")\n",
    "mery.eat()\n",
    "mery.walk()\n",
    "mery.walk()\n",
    "\n",
    "print(\"------mery 상태------\")\n",
    "mery.condition()\n",
    "\n",
    "# mery.__hungry += 100 # 오류"
   ]
  },
  {
   "cell_type": "markdown",
   "metadata": {},
   "source": [
    "### 클래스 속성 (class attribute)"
   ]
  },
  {
   "cell_type": "code",
   "execution_count": 2,
   "metadata": {},
   "outputs": [
    {
     "name": "stdout",
     "output_type": "stream",
     "text": [
      "총 강아지는 :  1\n",
      "총 강아지는 :  2\n"
     ]
    }
   ],
   "source": [
    "class Dog:\n",
    "    dog_count = 0\n",
    "\n",
    "    def __init__(self, name, color):\n",
    "        self.name = name\n",
    "        self.color = color\n",
    "        Dog.dog_count += 1 \n",
    "\n",
    "    def dogCount(self):\n",
    "        print(\"총 강아지는 : \", Dog.dog_count)\n",
    "\n",
    "hello = Dog(\"hello\", \"black\")\n",
    "hello.dogCount()\n",
    "happy = Dog(\"happy\",\" black\")\n",
    "happy.dogCount()"
   ]
  },
  {
   "cell_type": "markdown",
   "metadata": {},
   "source": [
    "### 정적 메서드 (static method)"
   ]
  },
  {
   "cell_type": "code",
   "execution_count": 19,
   "metadata": {},
   "outputs": [
    {
     "name": "stdout",
     "output_type": "stream",
     "text": [
      "30\n"
     ]
    }
   ],
   "source": [
    "# 정적 메서드 : 클래스 내부에 있지만 클래스나 인스턴스의 상태를 변경하거나 접근할 필요가 없을 때 사용\n",
    "\"\"\"\n",
    "데코레이터란?\n",
    "데코레이터는 함수나 메서드의 동작을 변경하거나 확장하는 함수\n",
    "\"\"\"\n",
    "class Calc:\n",
    "    @staticmethod # 정적 메서드 데코레이터 (표준 라이브러리에서 제공)\n",
    "    def add(a, b):\n",
    "        print(a + b)\n",
    "\n",
    "#  클래스 Calc의 인스턴스를 생성하지 않고도 메서드 호출 가능\n",
    "Calc.add(10, 20)"
   ]
  },
  {
   "cell_type": "markdown",
   "metadata": {},
   "source": [
    "### 클래스 메서드 (class Method)"
   ]
  },
  {
   "cell_type": "code",
   "execution_count": 20,
   "metadata": {},
   "outputs": [
    {
     "name": "stdout",
     "output_type": "stream",
     "text": [
      "30\n",
      "계산된 횟수 :  1\n",
      "70\n",
      "계산된 횟수 :  2\n"
     ]
    }
   ],
   "source": [
    "# 클래스 메서드 : 클래스 상태를 조작하거나 클래스 레벨의 동작을 정의할 때 사용\n",
    "class Calc:\n",
    "    count = 0\n",
    "    @classmethod # 클래스 메서드 데코레이터 (표준 라이브러리에서 제공)\n",
    "    def add(cls, a, b): \n",
    "        \"\"\"\n",
    "        cls(클래스를 나타내는 매개변수)를 첫번째 인자로 받음\n",
    "        메서드가 호출 될 때 현재의 클래스 객체를 인자로 받는다는 것을 의미\n",
    "        \"\"\"\n",
    "        print(a + b)\n",
    "        cls.count += 1\n",
    "        print(\"계산된 횟수 : \", cls.count)\n",
    "\n",
    "Calc.add(10, 20)\n",
    "Calc.add(30, 40)"
   ]
  },
  {
   "cell_type": "markdown",
   "metadata": {},
   "source": [
    "### 상속"
   ]
  },
  {
   "cell_type": "code",
   "execution_count": 21,
   "metadata": {},
   "outputs": [
    {
     "name": "stdout",
     "output_type": "stream",
     "text": [
      "멍멍\n",
      "산책  10\n",
      "산책  20\n",
      "야옹\n",
      "산책  10\n",
      "산책  20\n"
     ]
    }
   ],
   "source": [
    "class Animal:\n",
    "    \n",
    "    def __init__(self): # __init__ 메서드 (역할 : 객체 생성 시 호출, 값 초기화)\n",
    "        self.hungry = 0\n",
    "    \n",
    "    def eat(self): # eat 메서드\n",
    "        self.hungry -= 10\n",
    "        print(\"밥먹음 \", self.hungry)\n",
    "    def walk(self): # walk 메서드\n",
    "        self.hungry += 10\n",
    "        print(\"산책 \", self.hungry)\n",
    "\n",
    "class Dog(Animal): # 부모의 기능 물려받기\n",
    "    \n",
    "    def __init__(self):\n",
    "        super().__init__() # 부모 클래스의 __init__ 메서드를 실행 \n",
    "    \n",
    "    def sound(self): # 자식만의 고유한 메서드 추가\n",
    "        print(\"멍멍\")\n",
    "        \n",
    "class Cat(Animal):\n",
    "    \n",
    "    def __init__(self):\n",
    "        super().__init__()\n",
    "    \n",
    "    def sound(self):\n",
    "        print(\"야옹\")\n",
    "    \n",
    "dog = Dog()\n",
    "dog.sound()\n",
    "dog.walk()\n",
    "dog.walk()\n",
    "\n",
    "cat = Cat()\n",
    "cat.sound()\n",
    "cat.walk()\n",
    "cat.walk()"
   ]
  },
  {
   "cell_type": "markdown",
   "metadata": {},
   "source": [
    "### 오버라이딩"
   ]
  },
  {
   "cell_type": "code",
   "execution_count": 22,
   "metadata": {},
   "outputs": [
    {
     "name": "stdout",
     "output_type": "stream",
     "text": [
      "밥먹음  -10\n",
      "왈왈\n"
     ]
    }
   ],
   "source": [
    "class Animal:\n",
    "    \n",
    "    def __init__(self):\n",
    "        self.hungry = 0\n",
    "    \n",
    "    def eat(self):\n",
    "        self.hungry -= 10\n",
    "        print(\"밥먹음 \", self.hungry)\n",
    "        \n",
    "    def walk(self):\n",
    "        self.hungry += 10\n",
    "        print(\"산책 \", self.hungry)\n",
    "\n",
    "class Dog(Animal):\n",
    "    \n",
    "    def __init__(self):\n",
    "        super().__init__()\n",
    "    \n",
    "    def sound(self):\n",
    "        print(\"멍멍\")\n",
    "        \n",
    "    def eat(self):\n",
    "        super().eat() # 부모에게 물려받은 일부기능 수정\n",
    "        print(\"왈왈\")\n",
    "    \n",
    "dog = Dog()\n",
    "dog.eat()"
   ]
  },
  {
   "cell_type": "markdown",
   "metadata": {},
   "source": [
    "### 추상클래스"
   ]
  },
  {
   "cell_type": "code",
   "execution_count": 193,
   "metadata": {},
   "outputs": [
    {
     "name": "stdout",
     "output_type": "stream",
     "text": [
      "밥먹음  -10\n"
     ]
    }
   ],
   "source": [
    "from abc import *\n",
    "\"\"\"\n",
    "추상클래스의 목적?\n",
    "설계의 일관성을 유지하는 데 중요한 역할\n",
    "- 여러 클래스가 동일한 인터페이스(즉, 동일한 메서드 집합)을 가질 필요가 있을 때 사용\n",
    "ex. Animal에서 추상 클래스에 sound 라는 추상 메서드를 정의하면 모든 자식클래스는 이 메서드를 구현해야 함\n",
    "\n",
    "\"\"\"\n",
    "\n",
    "class Animal(metaclass=ABCMeta):\n",
    "    \n",
    "    def __init__(self):\n",
    "        self.hungry = 0\n",
    "    \n",
    "    def eat(self):\n",
    "        self.hungry -= 10\n",
    "        print(\"밥먹음 \", self.hungry)\n",
    "    def walk(self):\n",
    "        self.hungry += 10\n",
    "        print(\"산책 \", self.hungry)\n",
    "        \n",
    "    @abstractmethod\n",
    "    def sound(self):\n",
    "        pass\n",
    "\n",
    "class Dog(Animal):\n",
    "    \n",
    "    def __init__(self):\n",
    "        super().__init__()\n",
    "    \n",
    "    def sound(self):\n",
    "        print(\"멍멍\")\n",
    "    \n",
    "\n",
    "    \n",
    "dog = Dog()\n",
    "dog.eat()"
   ]
  },
  {
   "cell_type": "markdown",
   "metadata": {},
   "source": [
    "### static method, class method 차이점2"
   ]
  },
  {
   "cell_type": "code",
   "execution_count": 24,
   "metadata": {},
   "outputs": [
    {
     "name": "stdout",
     "output_type": "stream",
     "text": [
      "동물\n",
      "강아지\n"
     ]
    }
   ],
   "source": [
    "class Animal:\n",
    "\n",
    "    type = \"동물\" # 클래스 변수\n",
    "\n",
    "    # 정적 메서드 : 클래스나 인스턴스 상태를 변경하지 않음\n",
    "    @staticmethod \n",
    "    def getType1():\n",
    "        return Animal.type # Animal의 type 변수를 반환\n",
    "\n",
    "    # 클래스 메서드 : 클래스 자체를 첫 번째 인자(cls)로 받음\n",
    "    @classmethod\n",
    "    def getType2(cls): # cls를 인자로 받아 호출된 클래스의 type 변수를 반환\n",
    "        return cls.type\n",
    "\n",
    "    def __init__(self):\n",
    "        self.hungry = 0\n",
    "\n",
    "class Dog(Animal):\n",
    "    \n",
    "    type = \"강아지\"\n",
    "\n",
    "    def __init__(self):\n",
    "        super().__init__()\n",
    "\n",
    "    def sound(self):\n",
    "        print(\"멍멍\")\n",
    "\n",
    "print(Dog.getType1()) # 동물\n",
    "print(Dog.getType2()) # 강아지(호출된 클래스의 type 속성을 참조)"
   ]
  }
 ],
 "metadata": {
  "kernelspec": {
   "display_name": "Python 3 (ipykernel)",
   "language": "python",
   "name": "python3"
  },
  "language_info": {
   "codemirror_mode": {
    "name": "ipython",
    "version": 3
   },
   "file_extension": ".py",
   "mimetype": "text/x-python",
   "name": "python",
   "nbconvert_exporter": "python",
   "pygments_lexer": "ipython3",
   "version": "3.12.4"
  }
 },
 "nbformat": 4,
 "nbformat_minor": 2
}
