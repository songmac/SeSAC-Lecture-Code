{
 "cells": [
  {
   "cell_type": "code",
   "execution_count": 2,
   "metadata": {},
   "outputs": [],
   "source": [
    "\"\"\"\n",
    "클래스 작성 로직\n",
    "1. Car 클래스 생성\n",
    "    - 클래스 변수를 사용하여 등록된 차량 개수를 기록\n",
    "    1) 생성자 '__init__' 메서드에서 차 이름, 배기량, 생산년도에 대한 인스턴스 속성 설정\n",
    "        - 외부에서 변경하지 못하도록 비공개 속성으로 지정\n",
    "    2) 차이름을 확인하고 변경하는 메서드 생성\n",
    "        - 인스턴스 속성 중 차 이름만 변경 가능하게 함\n",
    "    3) 배기량에 따른 차량 크기 분류\n",
    "        - 배기량을 기준으로 소형, 중형, 대형을 판별하는 메서드를 생성\n",
    "    4) 클래스 속성 및 클래스 메서드\n",
    "        - 등록된 차량 개수를 기록하기 위한 클래스 속성 정의\n",
    "        - 총 등록된 차량 개수를 출력하는 클래스 메서드를 생성\n",
    "\"\"\"\n",
    "\n",
    "class Car:\n",
    "    # 클래스 속성: 등록된 차량 개수\n",
    "    total_cars = 0\n",
    "\n",
    "    def __init__(self, name, cc, year):\n",
    "        self.__name = name          # 차 이름 (비공개 속성)\n",
    "        self.__cc = cc  # 배기량 (비공개 속성)\n",
    "        self.__year = year          # 생산년도 (비공개 속성)\n",
    "        \n",
    "        # 객체 생성 시마다 차량 개수 증가\n",
    "        Car.total_cars += 1\n",
    "\n",
    "    # 차 이름 확인 메서드\n",
    "    def get_name(self): # self : self의 속성을 아래에 정의\n",
    "        return self.__name\n",
    "\n",
    "    # 차 이름 변경 메서드\n",
    "    def set_name(self, new_name):\n",
    "        self.__name = new_name\n",
    "\n",
    "    # 배기량에 따른 차량 크기 분류 메서드\n",
    "    def get_size(self):\n",
    "        if self.__cc < 1000:\n",
    "            return \"소형\"\n",
    "        elif 1000 <= self.__cc <= 2000:\n",
    "            return \"중형\"\n",
    "        else:\n",
    "            return \"대형\"\n",
    "\n",
    "    # 총 등록된 차량 개수 출력 클래스 메서드\n",
    "    @classmethod\n",
    "    def get_total_cars(cls):\n",
    "        return cls.total_cars\n",
    "\n"
   ]
  },
  {
   "cell_type": "code",
   "execution_count": 3,
   "metadata": {},
   "outputs": [
    {
     "name": "stdout",
     "output_type": "stream",
     "text": [
      "Hyundai\n",
      "Hyundai New\n",
      "중형\n",
      "소형\n",
      "대형\n",
      "3\n"
     ]
    }
   ],
   "source": [
    "# car 객체들 생성\n",
    "car1 = Car(\"Hyundai\", 1500, 2020)\n",
    "car2 = Car(\"Kia\", 900, 2019)\n",
    "car3 = Car(\"BMW\", 2500, 2021)\n",
    "\n",
    "# car 객체들 이름 설정\n",
    "print(car1.get_name())  # Hyundai\n",
    "print(car2.get_name())  # Kia\n",
    "print(car3.get_name())  # BMW\n",
    "\n",
    "# car1 객체 이름 변경\n",
    "car1.set_name(\"Hyundai New\")\n",
    "print(car1.get_name())  # Hyundai New\n",
    "\n",
    "# car 객체들 배기량 출력\n",
    "print(car1.get_size())  # 중형\n",
    "print(car2.get_size())  # 소형\n",
    "print(car3.get_size())  # 대형\n",
    "\n",
    "# 등록된 총 car 객체들 개수 출력\n",
    "print(Car.get_total_cars())  # 3"
   ]
  }
 ],
 "metadata": {
  "kernelspec": {
   "display_name": "Python 3 (ipykernel)",
   "language": "python",
   "name": "python3"
  },
  "language_info": {
   "codemirror_mode": {
    "name": "ipython",
    "version": 3
   },
   "file_extension": ".py",
   "mimetype": "text/x-python",
   "name": "python",
   "nbconvert_exporter": "python",
   "pygments_lexer": "ipython3",
   "version": "3.12.4"
  }
 },
 "nbformat": 4,
 "nbformat_minor": 2
}
