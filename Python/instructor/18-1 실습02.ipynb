{
 "cells": [
  {
   "cell_type": "markdown",
   "metadata": {},
   "source": [
    "1. Character 클래스를 만들어주세요"
   ]
  },
  {
   "cell_type": "code",
   "execution_count": 4,
   "metadata": {},
   "outputs": [],
   "source": [
    "\"\"\"\n",
    "클래스 명: Character\n",
    "    - 속성 : health (초기값 200)\n",
    "    - 메서드 : move (health -10), rest (health +10), checkHealth (현재 health 반환)\n",
    "\n",
    "상속 클래스명 : Knight, Healer\n",
    "    1) Knight\n",
    "        - 속성 : health (부모 클래스에서 상속)\n",
    "        - 메서드 : move (health -15, 오버라이드), attack (\"공격합니다\" 출력)\n",
    "\n",
    "    2) Healer\n",
    "        - 속성 : health (부모 클래스에서 상속), mana (초기값 100)\n",
    "        - 메서드 : heal(character) (mana -10, character의 rest() 메서드 호출), checkMana (현재 mana 반환)\n",
    "\n",
    "\"\"\"\n",
    "\n",
    "\n",
    "class Character:\n",
    "    def __init__(self):\n",
    "        self.health = 200  # 초기 Health 값\n",
    "\n",
    "    def move(self):\n",
    "        self.health -= 10  # Move 메서드 호출 시 Health 감소\n",
    "\n",
    "    def rest(self):\n",
    "        self.health += 10  # Rest 메서드 호출 시 Health 증가\n",
    "\n",
    "    def checkHealth(self):\n",
    "        return self.health  # 현재 Health 값 반환\n"
   ]
  },
  {
   "cell_type": "markdown",
   "metadata": {},
   "source": [
    "2. Knight와 Healer 클래스를 만들어주세요."
   ]
  },
  {
   "cell_type": "code",
   "execution_count": 5,
   "metadata": {},
   "outputs": [
    {
     "name": "stdout",
     "output_type": "stream",
     "text": [
      "현재 체력은 :  200\n",
      "이동\n",
      "현재 체력은 :  185\n",
      "공격합니다.\n",
      "현재 체력은 :  200\n",
      "이동\n",
      "현재 체력은 :  190\n",
      "현재 체력은 :  185\n",
      "치료합니다.\n",
      "휴식\n",
      "휴식\n",
      "현재 체력은 :  205\n",
      "현재 마나는 :  90\n"
     ]
    }
   ],
   "source": [
    "class Knight(Character):\n",
    "    def move(self):\n",
    "        self.health -= 15  # Knight는 Move 시 Health가 15 감소 (추가로 5 감소)\n",
    "\n",
    "    def attack(self):\n",
    "        print(\"공격합니다\")  # Attack 메서드\n",
    "\n",
    "\n",
    "class Healer(Character):\n",
    "    def __init__(self):\n",
    "        super().__init__()\n",
    "        self.mana = 100  # 초기 Mana 값\n",
    "\n",
    "    def heal(self, character):\n",
    "        if self.mana >= 10:\n",
    "            self.mana -= 10  # Heal 메서드 호출 시 Mana 감소\n",
    "            character.rest()  # 전달받은 character 객체의 rest 메서드 호출\n",
    "        else:\n",
    "            print(\"마나가 부족합니다\")\n",
    "\n",
    "    def checkMana(self):\n",
    "        return self.mana  # 현재 Mana 값 반환"
   ]
  },
  {
   "cell_type": "code",
   "execution_count": null,
   "metadata": {},
   "outputs": [],
   "source": [
    "# 사용 예시\n",
    "knight = Knight()\n",
    "healer = Healer()\n",
    "\n",
    "print(knight.checkHealth())  # 초기 Health 값 출력: 200\n",
    "knight.move()\n",
    "print(knight.checkHealth())  # Move 후 Health 값 출력: 185\n",
    "knight.attack()              # 공격합니다 출력\n",
    "\n",
    "print(healer.checkHealth())  # 초기 Health 값 출력: 200\n",
    "print(healer.checkMana())    # 초기 Mana 값 출력: 100\n",
    "healer.heal(knight)          \n",
    "print(healer.checkMana())    # Heal 후 Mana 값 출력: 90\n",
    "print(knight.checkHealth())  # Heal 후 Knight의 Health 값 출력: 195"
   ]
  }
 ],
 "metadata": {
  "kernelspec": {
   "display_name": "Python 3",
   "language": "python",
   "name": "python3"
  },
  "language_info": {
   "codemirror_mode": {
    "name": "ipython",
    "version": 3
   },
   "file_extension": ".py",
   "mimetype": "text/x-python",
   "name": "python",
   "nbconvert_exporter": "python",
   "pygments_lexer": "ipython3",
   "version": "3.7.3"
  }
 },
 "nbformat": 4,
 "nbformat_minor": 2
}
