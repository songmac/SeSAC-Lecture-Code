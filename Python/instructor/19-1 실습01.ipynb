{
 "cells": [
  {
   "cell_type": "code",
   "execution_count": 2,
   "metadata": {},
   "outputs": [
    {
     "name": "stdout",
     "output_type": "stream",
     "text": [
      "송은채 인천 지메일\n"
     ]
    }
   ],
   "source": [
    "import pickle\n",
    "\n",
    "# try 문에는 예외가 발생할 가능성이 있는 코드가 포함\n",
    "try:\n",
    "    with open(\"info.p\", \"rb\") as file:\n",
    "        name = pickle.load(file)\n",
    "        address = pickle.load(file)  \n",
    "        email = pickle.load(file)\n",
    "        print(name, address, email)\n",
    "\n",
    "# except 블록에서는 발생한 예외를 처리\n",
    "except:\n",
    "    with open(\"info.p\", \"wb\") as file:\n",
    "        pickle.dump(input(\"이름은?\"), file)\n",
    "        pickle.dump(input(\"주소는?\"), file)\n",
    "        pickle.dump(input(\"이메일은?\"), file)"
   ]
  }
 ],
 "metadata": {
  "kernelspec": {
   "display_name": "Python 3 (ipykernel)",
   "language": "python",
   "name": "python3"
  }
 },
 "nbformat": 4,
 "nbformat_minor": 2
}
