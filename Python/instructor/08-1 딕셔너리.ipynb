{
 "cells": [
  {
   "cell_type": "markdown",
   "metadata": {},
   "source": [
    "# 딕셔너리"
   ]
  },
  {
   "cell_type": "code",
   "execution_count": 31,
   "metadata": {},
   "outputs": [
    {
     "name": "stdout",
     "output_type": "stream",
     "text": [
      "tom\n"
     ]
    }
   ],
   "source": [
    "score = {\"name\": \"tom\", \"math\": 80, \"english\": 70}\n",
    "\n",
    "print(score[\"name\"]) # 조회"
   ]
  },
  {
   "cell_type": "code",
   "execution_count": 32,
   "metadata": {},
   "outputs": [
    {
     "name": "stdout",
     "output_type": "stream",
     "text": [
      "michael\n"
     ]
    },
    {
     "data": {
      "text/plain": [
       "dict"
      ]
     },
     "execution_count": 32,
     "metadata": {},
     "output_type": "execute_result"
    }
   ],
   "source": [
    "score[\"name\"] = \"michael\" # key \"name\" 값을 변경\n",
    "print(score[\"name\"])\n",
    "\n",
    "type(score)"
   ]
  },
  {
   "cell_type": "code",
   "execution_count": 30,
   "metadata": {},
   "outputs": [
    {
     "data": {
      "text/plain": [
       "'tom'"
      ]
     },
     "execution_count": 30,
     "metadata": {},
     "output_type": "execute_result"
    }
   ],
   "source": [
    "score = dict(name=\"tom\", math=80, english=70)\n",
    "score[\"name\"]"
   ]
  },
  {
   "cell_type": "code",
   "execution_count": 10,
   "metadata": {},
   "outputs": [
    {
     "data": {
      "text/plain": [
       "'michale'"
      ]
     },
     "execution_count": 10,
     "metadata": {},
     "output_type": "execute_result"
    }
   ],
   "source": [
    "\n",
    "score[\"name\"] = \"michale\"\n",
    "score[\"name\"]"
   ]
  },
  {
   "cell_type": "code",
   "execution_count": 33,
   "metadata": {},
   "outputs": [
    {
     "name": "stdout",
     "output_type": "stream",
     "text": [
      "{}\n",
      "{}\n"
     ]
    }
   ],
   "source": [
    "score = {}\n",
    "print(score)\n",
    "\n",
    "score = dict()\n",
    "print(score)"
   ]
  },
  {
   "cell_type": "markdown",
   "metadata": {},
   "source": [
    "## 딕셔너리 기능\n",
    "### 키가있는지 확인"
   ]
  },
  {
   "cell_type": "code",
   "execution_count": 35,
   "metadata": {},
   "outputs": [
    {
     "name": "stdout",
     "output_type": "stream",
     "text": [
      "True\n",
      "False\n"
     ]
    }
   ],
   "source": [
    "score = {\"name\":\"tom\", \"math\":80, \"english\": 70}\n",
    "\n",
    "print(\"math\" in score)\n",
    "print(\"age\" in score)"
   ]
  },
  {
   "cell_type": "code",
   "execution_count": 36,
   "metadata": {},
   "outputs": [
    {
     "name": "stdout",
     "output_type": "stream",
     "text": [
      "True\n"
     ]
    }
   ],
   "source": [
    "print(70 in score.values())"
   ]
  },
  {
   "cell_type": "markdown",
   "metadata": {},
   "source": [
    "### 키의 개수"
   ]
  },
  {
   "cell_type": "code",
   "execution_count": 18,
   "metadata": {},
   "outputs": [
    {
     "data": {
      "text/plain": [
       "3"
      ]
     },
     "execution_count": 18,
     "metadata": {},
     "output_type": "execute_result"
    }
   ],
   "source": [
    "\"\"\"\n",
    "key의 개수가 곧 딕셔너리의 개수가 되는 이유?\n",
    "key는 딕셔너리의 고유한 항목이고  \n",
    "또한 딕셔너리 값은 키를 통해 접근하기 때문에, \n",
    "고유한 항목의 개수를 세는 것이 자연스러움\n",
    "\"\"\"\n",
    "len(score)"
   ]
  },
  {
   "cell_type": "markdown",
   "metadata": {},
   "source": [
    "### 키-값 쌍 추가하기"
   ]
  },
  {
   "cell_type": "code",
   "execution_count": 19,
   "metadata": {},
   "outputs": [
    {
     "name": "stdout",
     "output_type": "stream",
     "text": [
      "{'name': 'tom', 'math': 80, 'english': 70, 'science': 20}\n"
     ]
    }
   ],
   "source": [
    "# 단일 키-값 쌍을 추가하거나 기본값을 설정할 때 사용\n",
    "score.setdefault(\"science\", 20)\n",
    "print(score)"
   ]
  },
  {
   "cell_type": "markdown",
   "metadata": {},
   "source": [
    "### 키-값 수정하기"
   ]
  },
  {
   "cell_type": "code",
   "execution_count": 20,
   "metadata": {},
   "outputs": [
    {
     "name": "stdout",
     "output_type": "stream",
     "text": [
      "{'name': 'tom', 'math': 90, 'english': 70, 'science': 20}\n"
     ]
    }
   ],
   "source": [
    "#  여러 키-값 쌍을 추가하거나 업데이트할 때 사용\n",
    "score.update({\"math\": 90})\n",
    "print(score)"
   ]
  },
  {
   "cell_type": "markdown",
   "metadata": {},
   "source": [
    "### 키로 딕셔너리 항목삭제 POP"
   ]
  },
  {
   "cell_type": "code",
   "execution_count": 21,
   "metadata": {},
   "outputs": [
    {
     "data": {
      "text/plain": [
       "'\\n오류 : 최소 한개의 요소가 포함되어야 함\\n'"
      ]
     },
     "execution_count": 21,
     "metadata": {},
     "output_type": "execute_result"
    }
   ],
   "source": [
    "\"\"\"\n",
    "오류 : 최소 한개의 요소가 포함되어야 함\n",
    "\"\"\"\n",
    "# score = {\"name\":\"tom\", \"math\":80, \"english\": 70}\n",
    "# print(score.pop())"
   ]
  },
  {
   "cell_type": "code",
   "execution_count": 22,
   "metadata": {},
   "outputs": [
    {
     "name": "stdout",
     "output_type": "stream",
     "text": [
      "tom\n"
     ]
    }
   ],
   "source": [
    "# 딕셔너리 항목 삭제 시 'name' 키는 존재하므로 해당 값이 반환\n",
    "print(score.pop(\"name\")) #삭제된 키의 값 반환"
   ]
  },
  {
   "cell_type": "code",
   "execution_count": 23,
   "metadata": {},
   "outputs": [
    {
     "name": "stdout",
     "output_type": "stream",
     "text": [
      "{'math': 90, 'english': 70, 'science': 20}\n"
     ]
    }
   ],
   "source": [
    "print(score)"
   ]
  },
  {
   "cell_type": "code",
   "execution_count": 24,
   "metadata": {},
   "outputs": [
    {
     "name": "stdout",
     "output_type": "stream",
     "text": [
      "180\n"
     ]
    }
   ],
   "source": [
    "#  딕셔너리 항목 삭제 시 'total' 키가 없으므로 기본값 180이 반환\n",
    "# 키가 없어도 pop을 사용했을 때 오류가 나는 것이 아니라 딕셔너리의 변화가 없음을 나타냄\n",
    "print(score.pop(\"total\", 180))"
   ]
  },
  {
   "cell_type": "code",
   "execution_count": 25,
   "metadata": {},
   "outputs": [
    {
     "name": "stdout",
     "output_type": "stream",
     "text": [
      "{'math': 90, 'english': 70, 'science': 20}\n"
     ]
    }
   ],
   "source": [
    "print(score)"
   ]
  },
  {
   "cell_type": "markdown",
   "metadata": {},
   "source": [
    "### 모든 값 삭제"
   ]
  },
  {
   "cell_type": "code",
   "execution_count": 26,
   "metadata": {},
   "outputs": [
    {
     "name": "stdout",
     "output_type": "stream",
     "text": [
      "{}\n"
     ]
    }
   ],
   "source": [
    "score.clear()\n",
    "print(score)"
   ]
  },
  {
   "cell_type": "markdown",
   "metadata": {},
   "source": [
    "### 모든 키, 값 가져오기"
   ]
  },
  {
   "cell_type": "code",
   "execution_count": 27,
   "metadata": {},
   "outputs": [
    {
     "name": "stdout",
     "output_type": "stream",
     "text": [
      "dict_keys(['name', 'math', 'english'])\n",
      "dict_values(['tom', 80, 70])\n",
      "dict_items([('name', 'tom'), ('math', 80), ('english', 70)])\n"
     ]
    }
   ],
   "source": [
    "score = {\"name\": \"tom\", \"math\": 80, \"english\": 70}\n",
    "\n",
    "# 모두 리스트로 반환\n",
    "print(score.keys())\n",
    "print(score.values())\n",
    "print(score.items())"
   ]
  },
  {
   "cell_type": "markdown",
   "metadata": {},
   "source": [
    "### 딕셔너리의 할당과 복사"
   ]
  },
  {
   "cell_type": "code",
   "execution_count": 28,
   "metadata": {},
   "outputs": [
    {
     "name": "stdout",
     "output_type": "stream",
     "text": [
      "{'a': 0, 'b': 1}\n",
      "{'a': 2, 'b': 1}\n"
     ]
    }
   ],
   "source": [
    "dic1 = {\"a\": 0, \"b\": 1}\n",
    "dic2 = dic1.copy()\n",
    "dic2[\"a\"] = 2\n",
    "print(dic1)\n",
    "print(dic2)"
   ]
  },
  {
   "cell_type": "code",
   "execution_count": 29,
   "metadata": {},
   "outputs": [
    {
     "name": "stdout",
     "output_type": "stream",
     "text": [
      "{'a': {'c': 0, 'd': 0}, 'b': {'e': 0, 'f': 0}}\n",
      "{'a': {'c': 0, 'd': 0}, 'b': {'e': 1, 'f': 0}}\n"
     ]
    }
   ],
   "source": [
    "import copy\n",
    "\n",
    "dic1 = {\"a\": {\"c\": 0, \"d\":0}, \"b\": {\"e\":0, \"f\":0}}\n",
    "dic2 = copy.deepcopy(dic1)\n",
    "dic2[\"b\"][\"e\"] = 1\n",
    "\n",
    "print(dic1)\n",
    "print(dic2)"
   ]
  }
 ],
 "metadata": {
  "kernelspec": {
   "display_name": "Python 3 (ipykernel)",
   "language": "python",
   "name": "python3"
  },
  "language_info": {
   "codemirror_mode": {
    "name": "ipython",
    "version": 3
   },
   "file_extension": ".py",
   "mimetype": "text/x-python",
   "name": "python",
   "nbconvert_exporter": "python",
   "pygments_lexer": "ipython3",
   "version": "3.12.4"
  }
 },
 "nbformat": 4,
 "nbformat_minor": 2
}
