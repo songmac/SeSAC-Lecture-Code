{
 "cells": [
  {
   "cell_type": "markdown",
   "metadata": {},
   "source": [
    "# 데코레이터"
   ]
  },
  {
   "cell_type": "markdown",
   "metadata": {},
   "source": [
    "### 데코레이터"
   ]
  },
  {
   "cell_type": "code",
   "execution_count": 1,
   "metadata": {},
   "outputs": [
    {
     "name": "stdout",
     "output_type": "stream",
     "text": [
      "개가 곧 짖을거에요!\n",
      "월!\n"
     ]
    }
   ],
   "source": [
    "def bark_decorator(func):\n",
    "    def wrapper(self):\n",
    "        print(\"개가 곧 짖을거에요!\")\n",
    "        return func(self)\n",
    "    return wrapper\n",
    "\n",
    "class Animal:\n",
    "    def __init__(self, name):\n",
    "        self.name = name\n",
    "\n",
    "class Dog(Animal):\n",
    "    @bark_decorator\n",
    "    def sound(self):\n",
    "        return \"월!\"\n",
    "\n",
    "dog = Dog(\"mery\")\n",
    "print(dog.sound())  "
   ]
  },
  {
   "cell_type": "markdown",
   "metadata": {},
   "source": [
    "### 일급함수(일급객체)"
   ]
  },
  {
   "cell_type": "code",
   "execution_count": 2,
   "metadata": {},
   "outputs": [
    {
     "name": "stdout",
     "output_type": "stream",
     "text": [
      "월!\n"
     ]
    }
   ],
   "source": [
    "class Animal:\n",
    "    def __init__(self, name):\n",
    "        self.name = name\n",
    "\n",
    "class Dog(Animal):\n",
    "    def sound(self):\n",
    "        return \"월!\"\n",
    "\n",
    "def execute_sound(animal_sound):\n",
    "    return animal_sound()\n",
    "\n",
    "dog = Dog(\"mery\")\n",
    "sound_function = dog.sound\n",
    "print(execute_sound(sound_function))  \n"
   ]
  },
  {
   "cell_type": "markdown",
   "metadata": {},
   "source": [
    "### 클로저"
   ]
  },
  {
   "cell_type": "code",
   "execution_count": 3,
   "metadata": {},
   "outputs": [
    {
     "name": "stdout",
     "output_type": "stream",
     "text": [
      "mery 가 1 번 짖었습니다.\n",
      "mery 가 2 번 짖었습니다.\n"
     ]
    }
   ],
   "source": [
    "class Animal:\n",
    "    def __init__(self, name):\n",
    "        self.name = name\n",
    "\n",
    "class Dog(Animal):\n",
    "    def __init__(self, name):\n",
    "        super().__init__(name)\n",
    "        self._bark_count = 0\n",
    "\n",
    "    def sound(self):\n",
    "        return \"월!\"\n",
    "\n",
    "    def create_closure(self):\n",
    "        def bark_counter():\n",
    "            self._bark_count += 1\n",
    "            return f\"{self.name} 가 {self._bark_count} 번 짖었습니다.\"\n",
    "        return bark_counter\n",
    "\n",
    "dog = Dog(\"mery\")\n",
    "counter = dog.create_closure()\n",
    "print(counter())  \n",
    "print(counter())  "
   ]
  }
 ],
 "metadata": {
  "kernelspec": {
   "display_name": "Python 3 (ipykernel)",
   "language": "python",
   "name": "python3"
  }
 },
 "nbformat": 4,
 "nbformat_minor": 2
}
