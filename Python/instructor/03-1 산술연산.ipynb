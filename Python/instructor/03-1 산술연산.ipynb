{
 "cells": [
  {
   "cell_type": "markdown",
   "metadata": {},
   "source": [
    "# 산술연산\n",
    "\n",
    "## 사칙연산"
   ]
  },
  {
   "cell_type": "code",
   "execution_count": 4,
   "metadata": {},
   "outputs": [
    {
     "name": "stdout",
     "output_type": "stream",
     "text": [
      "1 + 2\n",
      "3\n",
      "\n",
      "1 - 2\n",
      "-1\n",
      "\n",
      "5 * 2\n",
      "10\n",
      "\n",
      "5 / 2\n",
      "2.5\n",
      "\n",
      "5 // 2\n",
      "2\n",
      "\n",
      "5.5 //  2\n",
      "2.0\n",
      "\n",
      "5.5 %  2\n",
      "1.5\n",
      "\n",
      "9 % 2\n",
      "1\n",
      "\n",
      "2 ** 3\n",
      "8\n",
      "\n",
      "(2 + 3) * 2\n",
      "10\n",
      "\n"
     ]
    }
   ],
   "source": [
    "print('1 + 2') # 문자열 출력\n",
    "print(1 + 2) # 수식 계산 후 출력\n",
    "print() # '\\n'\n",
    "\n",
    "print('1 - 2')\n",
    "print(1 - 2)\n",
    "print() \n",
    "\n",
    "print('5 * 2')\n",
    "print(5 * 2)\n",
    "print()\n",
    "\n",
    "print('5 / 2')\n",
    "print(5 / 2)\n",
    "print()\n",
    "\n",
    "print('5 // 2')\n",
    "print(5 // 2)\n",
    "print()\n",
    "\n",
    "print('5.5 //  2')\n",
    "print(5.5 // 2)\n",
    "print()\n",
    "\n",
    "print('5.5 %  2')\n",
    "print(5.5 % 2)\n",
    "print()\n",
    "\n",
    "print('9 % 2')\n",
    "print(9 % 2)\n",
    "print()\n",
    "\n",
    "print('2 ** 3')\n",
    "print(2 ** 3)\n",
    "print()\n",
    "\n",
    "print('(2 + 3) * 2')\n",
    "print((2 + 3) * 2)\n",
    "print()"
   ]
  },
  {
   "cell_type": "markdown",
   "metadata": {},
   "source": [
    "## 숫자의 자료형"
   ]
  },
  {
   "cell_type": "code",
   "execution_count": 22,
   "metadata": {},
   "outputs": [
    {
     "data": {
      "text/plain": [
       "int"
      ]
     },
     "execution_count": 22,
     "metadata": {},
     "output_type": "execute_result"
    }
   ],
   "source": [
    "type(10)"
   ]
  },
  {
   "cell_type": "code",
   "execution_count": 24,
   "metadata": {},
   "outputs": [
    {
     "data": {
      "text/plain": [
       "float"
      ]
     },
     "execution_count": 24,
     "metadata": {},
     "output_type": "execute_result"
    }
   ],
   "source": [
    "type(10.5)"
   ]
  },
  {
   "cell_type": "markdown",
   "metadata": {},
   "source": [
    "## 숫자형 변환"
   ]
  },
  {
   "cell_type": "code",
   "execution_count": 28,
   "metadata": {},
   "outputs": [
    {
     "name": "stdout",
     "output_type": "stream",
     "text": [
      "3.0\n"
     ]
    }
   ],
   "source": [
    "#정수 -> 실수\n",
    "print(float(3))"
   ]
  },
  {
   "cell_type": "code",
   "execution_count": 42,
   "metadata": {},
   "outputs": [
    {
     "name": "stdout",
     "output_type": "stream",
     "text": [
      "3\n",
      "2\n"
     ]
    }
   ],
   "source": [
    "#실수 -> 정수\n",
    "print(int(3.5))\n",
    "\n",
    "#정수변환을 이용한 몫 구하기\n",
    "print(int(5 / 2))"
   ]
  }
 ],
 "metadata": {
  "kernelspec": {
   "display_name": "Python 3",
   "language": "python",
   "name": "python3"
  },
  "language_info": {
   "codemirror_mode": {
    "name": "ipython",
    "version": 3
   },
   "file_extension": ".py",
   "mimetype": "text/x-python",
   "name": "python",
   "nbconvert_exporter": "python",
   "pygments_lexer": "ipython3",
   "version": "3.12.2"
  }
 },
 "nbformat": 4,
 "nbformat_minor": 2
}
