{
 "cells": [
  {
   "cell_type": "code",
   "execution_count": 9,
   "metadata": {},
   "outputs": [
    {
     "name": "stdout",
     "output_type": "stream",
     "text": [
      "I wanna try some delicious alcohol\n",
      "Iwannatrysomedeliciousalcohol\n"
     ]
    }
   ],
   "source": [
    "sentence = input(\"아무 문자나 입력해주세요 : \")\n",
    "print(sentence)\n",
    "print(sentence.replace(\" \", \"\"))"
   ]
  },
  {
   "cell_type": "code",
   "execution_count": 6,
   "metadata": {},
   "outputs": [
    {
     "name": "stdout",
     "output_type": "stream",
     "text": [
      "저의 이름은 홍길동 이고 총점은 60 입니다.\n",
      "저의 이름은 홍길동 이고 총점은 60 입니다.\n",
      "저의 이름은 홍길동 이고 총점은 60 입니다.\n"
     ]
    }
   ],
   "source": [
    "name = input(\"이름을 입력해주세요 : \")\n",
    "score1 = int(input(\"첫번째 점수를 입력해 주세요 : \"))\n",
    "score2 = int(input(\"두번째 점수를 입력해 주세요 : \"))\n",
    "score3 = int(input(\"세번째 점수를 입력해 주세요 : \"))\n",
    "\n",
    "sum = score1 + score2 + score3\n",
    "\n",
    "print(\"저의 이름은 %s 이고 총점은 %d 입니다.\" % (name, sum))\n",
    "print(\"저의 이름은 {} 이고 총점은 {} 입니다.\".format(name, sum))\n",
    "print(\"저의 이름은 {0} 이고 총점은 {1} 입니다.\".format(name, sum))\n",
    "print(f\"저의 이름은 {name} 이고 총점은 {sum} 입니다.\")\n"
   ]
  }
 ],
 "metadata": {
  "kernelspec": {
   "display_name": "Python 3 (ipykernel)",
   "language": "python",
   "name": "python3"
  }
 },
 "nbformat": 4,
 "nbformat_minor": 2
}
