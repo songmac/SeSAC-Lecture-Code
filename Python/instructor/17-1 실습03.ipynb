{
 "cells": [
  {
   "cell_type": "code",
   "execution_count": null,
   "metadata": {},
   "outputs": [],
   "source": [
    "def f_sum(a):\n",
    "    if a == 1:\n",
    "        return a\n",
    "    return a + f_sum(a-1)\n",
    "\n",
    "f_sum(5)"
   ]
  },
  {
   "cell_type": "code",
   "execution_count": 5,
   "metadata": {},
   "outputs": [
    {
     "name": "stdout",
     "output_type": "stream",
     "text": [
      "1\n",
      "2\n",
      "3\n",
      "4\n"
     ]
    }
   ],
   "source": [
    "def f_number(a):\n",
    "    if a == 0: \n",
    "        return\n",
    "    else:\n",
    "        f_number(int(a / 10)) # 몫이 존재할 동안 반복하는 조건 설정\n",
    "        print(a % 10) # 10으로 나눈 나머지 출력\n",
    "\n",
    "f_number(1234)"
   ]
  },
  {
   "cell_type": "code",
   "execution_count": 6,
   "metadata": {},
   "outputs": [
    {
     "name": "stdout",
     "output_type": "stream",
     "text": [
      "1\n",
      "2\n",
      "3\n",
      "4\n"
     ]
    }
   ],
   "source": [
    "def f_number(n):\n",
    "    if n==0:\n",
    "        pass\n",
    "    else:\n",
    "        f_number(n//10)\n",
    "        print(n%10)\n",
    "f_number(1234)"
   ]
  },
  {
   "cell_type": "code",
   "execution_count": null,
   "metadata": {},
   "outputs": [],
   "source": []
  }
 ],
 "metadata": {
  "kernelspec": {
   "display_name": "Python 3 (ipykernel)",
   "language": "python",
   "name": "python3"
  },
  "language_info": {
   "codemirror_mode": {
    "name": "ipython",
    "version": 3
   },
   "file_extension": ".py",
   "mimetype": "text/x-python",
   "name": "python",
   "nbconvert_exporter": "python",
   "pygments_lexer": "ipython3",
   "version": "3.12.4"
  }
 },
 "nbformat": 4,
 "nbformat_minor": 2
}
