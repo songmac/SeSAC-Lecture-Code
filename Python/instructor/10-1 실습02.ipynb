{
 "cells": [
  {
   "cell_type": "code",
   "execution_count": 19,
   "metadata": {},
   "outputs": [
    {
     "name": "stdout",
     "output_type": "stream",
     "text": [
      "['사과', '오렌지', '바나나']\n"
     ]
    }
   ],
   "source": [
    "catetories = ['과일', '채소']\n",
    "fruit = ['사과', '오렌지']\n",
    "vegetable = ['당근', '호박']\n",
    "\n",
    "\"\"\"\n",
    "1. 카테고리 존재 O\n",
    "    1) 과일\n",
    "        - 등록되지 않은 과일인 경우\n",
    "        - 이미 등록된 과일인 경우\n",
    "    2) 채소\n",
    "        - 등록되지 않은 채소인 경우\n",
    "        - 이미 등록된 채소인 경우\n",
    "2. 카테고리 존재 X\n",
    "\n",
    "\"\"\"\n",
    "category = input(\"등록할 카테고리를 선택해주세요 (과일, 채소) : \")\n",
    "if category in catetories:\n",
    "    thing = input(f\"등록할 {category}을 입력해주세요 : \")\n",
    "    if category == \"과일\" :\n",
    "        if not(thing in fruit):\n",
    "            fruit.append(thing)\n",
    "            print(fruit)\n",
    "        else :\n",
    "            print(f\"이미 등록된 {category}입니다.\")\n",
    "    elif category == \"채소\" :\n",
    "        if not(thing in vegetable):\n",
    "            vegetable.append(thing)\n",
    "            print(vegetable)\n",
    "        else:\n",
    "            print(f\"이미 등록된 {category}입니다.\")\n",
    "else :\n",
    "    print(\"존재하지 않는 카테고리입니다.\")"
   ]
  }
 ],
 "metadata": {
  "kernelspec": {
   "display_name": "Python 3 (ipykernel)",
   "language": "python",
   "name": "python3"
  },
  "language_info": {
   "codemirror_mode": {
    "name": "ipython",
    "version": 3
   },
   "file_extension": ".py",
   "mimetype": "text/x-python",
   "name": "python",
   "nbconvert_exporter": "python",
   "pygments_lexer": "ipython3",
   "version": "3.12.4"
  }
 },
 "nbformat": 4,
 "nbformat_minor": 2
}
