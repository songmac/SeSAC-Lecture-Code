{
 "cells": [
  {
   "cell_type": "code",
   "execution_count": 2,
   "metadata": {},
   "outputs": [],
   "source": [
    "# 사용자 정의 예외 클래스 : NotNumber \n",
    "class NotNumber(Exception):\n",
    "    \"\"\"\n",
    "    1. super()를 사용하여 부모 클래스인 Exception의 생성자를 호출\n",
    "    2. 부모 클래스에서 정의된 초기화 코드가 실행되고, 예외 메세지가 설정됨\n",
    "    \"\"\"\n",
    "    def __init__(self):\n",
    "        super().__init__(\"잘못된 숫자입니다.\") \n",
    "        \n",
    "def gugudan(num):\n",
    "    if not (1 <= num <= 9):\n",
    "        raise NotNumber\n",
    "    \n",
    "    for i in range(1, 10):\n",
    "        print(f\"{num} X {i} = {num*i}\")"
   ]
  },
  {
   "cell_type": "code",
   "execution_count": 7,
   "metadata": {},
   "outputs": [
    {
     "name": "stdout",
     "output_type": "stream",
     "text": [
      "2 X 1 = 2\n",
      "2 X 2 = 4\n",
      "2 X 3 = 6\n",
      "2 X 4 = 8\n",
      "2 X 5 = 10\n",
      "2 X 6 = 12\n",
      "2 X 7 = 14\n",
      "2 X 8 = 16\n",
      "2 X 9 = 18\n"
     ]
    }
   ],
   "source": [
    "try:\n",
    "    gugudan(2)\n",
    "except NotNumber as e:\n",
    "    print(\"NotNumber:\", e)"
   ]
  },
  {
   "cell_type": "code",
   "execution_count": 8,
   "metadata": {},
   "outputs": [
    {
     "name": "stdout",
     "output_type": "stream",
     "text": [
      "NotNumber: 잘못된 숫자입니다.\n"
     ]
    }
   ],
   "source": [
    "try:\n",
    "    gugudan(10)\n",
    "except NotNumber as e:\n",
    "    print(\"NotNumber:\", e)"
   ]
  }
 ],
 "metadata": {
  "kernelspec": {
   "display_name": "Python 3 (ipykernel)",
   "language": "python",
   "name": "python3"
  }
 },
 "nbformat": 4,
 "nbformat_minor": 2
}
