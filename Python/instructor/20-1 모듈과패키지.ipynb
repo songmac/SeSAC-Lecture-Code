{
 "cells": [
  {
   "cell_type": "markdown",
   "metadata": {},
   "source": [
    "# 모듈과 패키지"
   ]
  },
  {
   "cell_type": "markdown",
   "metadata": {},
   "source": [
    "## 모듈"
   ]
  },
  {
   "cell_type": "code",
   "execution_count": null,
   "metadata": {},
   "outputs": [],
   "source": [
    "##### calc.py \n",
    "\n",
    "name = \"calc\"\n",
    "\n",
    "def add(a, b):\n",
    "     return a + b\n",
    "\n",
    "def sub(a, b):\n",
    "     return a - b\n",
    "\n",
    "if __name__ == \"__main__\":\n",
    "     print(\"시작점\")"
   ]
  },
  {
   "cell_type": "code",
   "execution_count": null,
   "metadata": {},
   "outputs": [],
   "source": [
    "#### calc_main.py\n",
    "\n",
    "import calc\n",
    "\n",
    "print(calc.add(5,6))\n",
    "print(calc.sub(5,6))"
   ]
  },
  {
   "cell_type": "code",
   "execution_count": null,
   "metadata": {},
   "outputs": [],
   "source": [
    "#### calc_main.py\n",
    "\n",
    "from calc import add, sub\n",
    "\n",
    "print(add(5,6))\n",
    "print(sub(5,6))"
   ]
  },
  {
   "cell_type": "markdown",
   "metadata": {},
   "source": [
    "## 패키지"
   ]
  },
  {
   "cell_type": "markdown",
   "metadata": {},
   "source": [
    "#### import 사용"
   ]
  },
  {
   "cell_type": "code",
   "execution_count": null,
   "metadata": {},
   "outputs": [],
   "source": [
    "#### calc_pkmain.py\n",
    "\n",
    "import pkcalc.calc as calc\n",
    "\n",
    "print(calc.name)\n",
    "print(calc.add(5,6))"
   ]
  },
  {
   "cell_type": "markdown",
   "metadata": {},
   "source": [
    "#### from import 사용"
   ]
  },
  {
   "cell_type": "code",
   "execution_count": null,
   "metadata": {},
   "outputs": [],
   "source": [
    "#### calc_pkmain.py\n",
    "\n",
    "from pkcalc.calc import name, add\n",
    "\n",
    "print(name)\n",
    "print(add(5,6))"
   ]
  },
  {
   "cell_type": "markdown",
   "metadata": {},
   "source": [
    "### 패키지명으로 import"
   ]
  },
  {
   "cell_type": "code",
   "execution_count": null,
   "metadata": {},
   "outputs": [],
   "source": [
    "#### pkcalc/calc.py\n",
    "\n",
    "def add(a, b):\n",
    "     return a + b\n",
    "\n",
    "def sub(a, b):\n",
    "     return a- b"
   ]
  },
  {
   "cell_type": "code",
   "execution_count": null,
   "metadata": {},
   "outputs": [],
   "source": [
    "#### pkcalc/__init__.py\n",
    "\n",
    "from .calc import add, sub"
   ]
  },
  {
   "cell_type": "markdown",
   "metadata": {},
   "source": [
    "### 모듈과 패키지를 찾는 경로"
   ]
  },
  {
   "cell_type": "code",
   "execution_count": null,
   "metadata": {},
   "outputs": [],
   "source": [
    "import sys\n",
    "print(sys.path)"
   ]
  },
  {
   "cell_type": "markdown",
   "metadata": {},
   "source": [
    "### 현재 파일의 디렉토리를 기준으로 상위 디렉토리를 PYTHONPATH에 추가"
   ]
  },
  {
   "cell_type": "code",
   "execution_count": null,
   "metadata": {},
   "outputs": [],
   "source": [
    "import sys\n",
    "import os\n",
    "\n",
    "sys.path.append(os.path.dirname(os.path.dirname(os.path.abspath(__file__))))"
   ]
  }
 ],
 "metadata": {
  "kernelspec": {
   "display_name": "Python 3 (ipykernel)",
   "language": "python",
   "name": "python3"
  }
 },
 "nbformat": 4,
 "nbformat_minor": 2
}
