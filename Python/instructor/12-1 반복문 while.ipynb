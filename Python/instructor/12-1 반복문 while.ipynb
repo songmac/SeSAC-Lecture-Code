{
 "cells": [
  {
   "cell_type": "markdown",
   "metadata": {},
   "source": [
    "## 반복문 while"
   ]
  },
  {
   "cell_type": "code",
   "execution_count": 7,
   "metadata": {},
   "outputs": [
    {
     "name": "stdout",
     "output_type": "stream",
     "text": [
      "현재값 :  0\n",
      "현재값 :  1\n",
      "현재값 :  2\n",
      "현재값 :  3\n",
      "현재값 :  4\n",
      "현재값 :  5\n",
      "현재값 :  6\n",
      "현재값 :  7\n",
      "현재값 :  8\n",
      "현재값 :  9\n"
     ]
    }
   ],
   "source": [
    "i = 0\n",
    "while i < 10:\n",
    "    print(\"현재값 : \", i)\n",
    "    i += 1"
   ]
  },
  {
   "cell_type": "markdown",
   "metadata": {},
   "source": [
    "### 입력한 횟수만큼 반복하기"
   ]
  },
  {
   "cell_type": "code",
   "execution_count": 1,
   "metadata": {},
   "outputs": [
    {
     "name": "stdout",
     "output_type": "stream",
     "text": [
      "입력횟수 만큼 반복\n",
      "입력횟수 만큼 반복\n",
      "입력횟수 만큼 반복\n"
     ]
    }
   ],
   "source": [
    "count = int(input(\"반복횟수?\"))\n",
    "\n",
    "i = 0\n",
    "while i < count:\n",
    "    print(\"입력횟수 만큼 반복\")\n",
    "    i += 1\n",
    "    "
   ]
  },
  {
   "cell_type": "markdown",
   "metadata": {},
   "source": [
    "### 입력조건이 맞을때까지 반복"
   ]
  },
  {
   "cell_type": "code",
   "execution_count": 12,
   "metadata": {},
   "outputs": [
    {
     "name": "stdout",
     "output_type": "stream",
     "text": [
      "5를 입력하면 반복이 중단됩니다.3\n",
      "5를 입력하면 반복이 중단됩니다.6\n",
      "5를 입력하면 반복이 중단됩니다.5\n",
      "중단!\n"
     ]
    }
   ],
   "source": [
    "i = 0\n",
    "\n",
    "while i != 5:\n",
    "    i = int(input(\"5를 입력하면 반복이 중단됩니다.\"))\n",
    "\n",
    "print(\"중단!\")"
   ]
  },
  {
   "cell_type": "code",
   "execution_count": 6,
   "metadata": {},
   "outputs": [
    {
     "name": "stdout",
     "output_type": "stream",
     "text": [
      "중단!\n"
     ]
    }
   ],
   "source": [
    "i = 0\n",
    "\n",
    "while i != 5:\n",
    "    i = int(input(\"5를 입력하면 반복이 중단됩니다.\"))\n",
    "\n",
    "print(\"중단!\")"
   ]
  },
  {
   "cell_type": "code",
   "execution_count": null,
   "metadata": {},
   "outputs": [],
   "source": []
  }
 ],
 "metadata": {
  "kernelspec": {
   "display_name": "Python 3",
   "language": "python",
   "name": "python3"
  },
  "language_info": {
   "codemirror_mode": {
    "name": "ipython",
    "version": 3
   },
   "file_extension": ".py",
   "mimetype": "text/x-python",
   "name": "python",
   "nbconvert_exporter": "python",
   "pygments_lexer": "ipython3",
   "version": "3.12.4"
  }
 },
 "nbformat": 4,
 "nbformat_minor": 2
}
