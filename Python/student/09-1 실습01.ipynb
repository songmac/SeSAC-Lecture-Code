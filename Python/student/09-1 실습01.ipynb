{
 "cells": [
  {
   "cell_type": "code",
   "execution_count": 1,
   "metadata": {},
   "outputs": [
    {
     "name": "stdout",
     "output_type": "stream",
     "text": [
      "두 학급에 모두 속한 학생: {'David', 'Charlie'}\n",
      "두 학급 중 하나에만 속한 학생: {'Bob', 'Frank', 'Alice', 'Eve'}\n",
      "학급 A에만 속한 학생: {'Alice', 'Bob'}\n",
      "학급 B에만 속한 학생: {'Frank', 'Eve'}\n",
      "두 학급의 모든 학생: {'Bob', 'Alice', 'Frank', 'David', 'Eve', 'Charlie'}\n"
     ]
    }
   ],
   "source": [
    "A = {\"Alice\", \"Bob\", \"Charlie\", \"David\"}\n",
    "B = {\"Eve\", \"Frank\", \"Charlie\", \"David\"}\n",
    "\n",
    "print(\"두 학급에 모두 속한 학생:\", A & B)\n",
    "print(\"두 학급 중 하나에만 속한 학생:\", A ^ B)\n",
    "print(\"학급 A에만 속한 학생:\", A - B)\n",
    "print(\"학급 B에만 속한 학생:\", B - A)\n",
    "print(\"두 학급의 모든 학생:\", A | B)"
   ]
  }
 ],
 "metadata": {
  "kernelspec": {
   "display_name": "Python 3 (ipykernel)",
   "language": "python",
   "name": "python3"
  },
  "language_info": {
   "codemirror_mode": {
    "name": "ipython",
    "version": 3
   },
   "file_extension": ".py",
   "mimetype": "text/x-python",
   "name": "python",
   "nbconvert_exporter": "python",
   "pygments_lexer": "ipython3",
   "version": "3.12.4"
  }
 },
 "nbformat": 4,
 "nbformat_minor": 2
}
