{
 "cells": [
  {
   "cell_type": "code",
   "execution_count": 2,
   "metadata": {},
   "outputs": [
    {
     "name": "stdout",
     "output_type": "stream",
     "text": [
      "True\n",
      "True\n"
     ]
    }
   ],
   "source": [
    "score1 = int(input(\"첫번째 점수\"))\n",
    "score2 = int(input(\"두번째 점수\"))\n",
    "score3 = int(input(\"세번째 점수\"))\n",
    "\n",
    "print((score1 > 65) and (score2 > 65) and (score3 > 65))"
   ]
  }
 ],
 "metadata": {
  "kernelspec": {
   "display_name": "Python 3 (ipykernel)",
   "language": "python",
   "name": "python3"
  }
 },
 "nbformat": 4,
 "nbformat_minor": 2
}
