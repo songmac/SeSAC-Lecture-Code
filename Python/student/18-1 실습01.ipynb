{
 "cells": [
  {
   "cell_type": "code",
   "execution_count": 2,
   "metadata": {},
   "outputs": [],
   "source": [
    "\"\"\"\n",
    "클래스 작성 로직\n",
    "클래스 작성 로직\n",
    "1. 클래스(self, 차이름, 배기량, 생산년도)\n",
    "\n",
    "    total_cars = 0\n",
    "\n",
    "    1) init (생성자)\n",
    "        - self.__차이름 = 차이름\n",
    "        - self.__배기량 = 배기량\n",
    "        - self.__생산년도 = 생산년도\n",
    "\n",
    "        - 객체 생성시마다 증가 : total_cars\n",
    "        \n",
    "    2) 차이름 확인하는 메서드 : get_name(self)\n",
    "\n",
    "    3) 차이름 변경하는 메서드 : set_name(self, new_name)\n",
    "\n",
    "    4) 배기량에 따라 차량 크기를 분류하는 메서드 : get_size(self)\n",
    "        if 배기량 < 1000 \n",
    "            return 소형      \n",
    "        elif 1000 <= 배기량 <= 2000\n",
    "            return 중형\n",
    "        else \n",
    "            return 대형\n",
    "\n",
    "    5) 총 등록된 차량의 개수를 세는 메서드 : get_total_cars(cls)\n",
    "        return total_cars\n",
    "\"\"\"\n",
    "\n",
    "class Car:\n",
    "    total_cars = 0\n",
    "\n",
    "    def __init__(self, name, cc, year):\n",
    "        self.__name = name          \n",
    "        self.__cc = cc  \n",
    "        self.__year = year        \n",
    "        \n",
    "        Car.total_cars += 1\n",
    "\n",
    "    def get_name(self): \n",
    "        return self.__name\n",
    "\n",
    "    def set_name(self, new_name):\n",
    "        self.__name = new_name\n",
    "\n",
    "    def get_size(self):\n",
    "        if self.__cc < 1000:\n",
    "            return \"소형\"\n",
    "        elif 1000 <= self.__cc <= 2000:\n",
    "            return \"중형\"\n",
    "        else:\n",
    "            return \"대형\"\n",
    "\n",
    "    @classmethod\n",
    "    def get_total_cars(cls):\n",
    "        return cls.total_cars"
   ]
  },
  {
   "cell_type": "code",
   "execution_count": 3,
   "metadata": {},
   "outputs": [
    {
     "name": "stdout",
     "output_type": "stream",
     "text": [
      "Hyundai\n",
      "Hyundai New\n",
      "중형\n",
      "소형\n",
      "대형\n",
      "3\n"
     ]
    }
   ],
   "source": [
    "car1 = Car(\"Hyundai\", 1500, 2020)\n",
    "car2 = Car(\"Kia\", 900, 2019)\n",
    "car3 = Car(\"BMW\", 2500, 2021)\n",
    "\n",
    "print(car1.get_name()) \n",
    "print(car2.get_name()) \n",
    "print(car3.get_name())  \n",
    "\n",
    "\n",
    "car1.set_name(\"Hyundai New\")\n",
    "print(car1.get_name()) \n",
    "\n",
    "\n",
    "print(car1.get_size())  \n",
    "print(car2.get_size()) \n",
    "print(car3.get_size())  \n",
    "\n",
    "\n",
    "print(Car.get_total_cars()) "
   ]
  }
 ],
 "metadata": {
  "kernelspec": {
   "display_name": "Python 3 (ipykernel)",
   "language": "python",
   "name": "python3"
  },
  "language_info": {
   "codemirror_mode": {
    "name": "ipython",
    "version": 3
   },
   "file_extension": ".py",
   "mimetype": "text/x-python",
   "name": "python",
   "nbconvert_exporter": "python",
   "pygments_lexer": "ipython3",
   "version": "3.12.4"
  }
 },
 "nbformat": 4,
 "nbformat_minor": 2
}
