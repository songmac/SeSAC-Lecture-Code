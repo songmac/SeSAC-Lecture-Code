{
 "cells": [
  {
   "cell_type": "code",
   "execution_count": 2,
   "metadata": {},
   "outputs": [],
   "source": [
    "# 초기화\n",
    "import pickle\n",
    "\n",
    "user_cnt = 0\n",
    "rcp_cnt = 0\n",
    "\n",
    "with open('rcp_score.p', 'wb') as file:\n",
    "    pickle.dump(rcp_cnt, file)\n",
    "    pickle.dump(user_cnt, file)"
   ]
  },
  {
   "cell_type": "code",
   "execution_count": 4,
   "metadata": {},
   "outputs": [
    {
     "name": "stdout",
     "output_type": "stream",
     "text": [
      "게임 기록 (전체:7, 유저 승리:3)\n",
      "유저: 가위, 컴퓨터: 바위\n",
      "유저: 바위, 컴퓨터: 가위\n",
      "유저: 보, 컴퓨터: 보\n",
      "유저: 바위, 컴퓨터: 가위\n",
      "게임종료 (전체:11, 유저 승리:5)\n"
     ]
    }
   ],
   "source": [
    "import pickle \n",
    "import random\n",
    "\n",
    "with open('rcp_score.p', 'rb') as file:\n",
    "    rcp_cnt = pickle.load(file)\n",
    "    user_cnt = pickle.load(file)\n",
    "\n",
    "print(f\"게임 기록 (전체:{rcp_cnt}, 유저 승리:{user_cnt})\")\n",
    "\n",
    "user_cnt = 0\n",
    "rcp_cnt = 0\n",
    "rcp = {1:'가위', 2:'바위', 3:'보'}\n",
    "\n",
    "while True:\n",
    "    user = int(input(\"가위(1), 바위(2), 보(3)를 입력해주세요 : \"))\n",
    "    com = random.randint(1, 3)\n",
    "\n",
    "    if user in [1, 2, 3]:\n",
    "        print(f\"유저: {rcp[user]}, 컴퓨터: {rcp[com]}\")\n",
    "\n",
    "        if (user==1)&(com==3) | (user==2)&(com==1) | (user==3)&(com==2):\n",
    "            user_cnt += 1\n",
    "        elif (user==1)&(com==2) | (user==2)&(com==3) | (user==3)&(com==1):\n",
    "            pass\n",
    "        else :\n",
    "            pass\n",
    "        rcp_cnt += 1\n",
    "    else :\n",
    "        break\n",
    "\n",
    "print(f\"게임종료 (전체:{rcp_cnt}, 유저 승리:{user_cnt})\")\n",
    "\n",
    "with open('rcp_score.p', 'wb') as file:\n",
    "    pickle.dump(rcp_cnt, file)\n",
    "    pickle.dump(user_cnt, file)\n"
   ]
  }
 ],
 "metadata": {
  "kernelspec": {
   "display_name": "Python 3 (ipykernel)",
   "language": "python",
   "name": "python3"
  },
  "language_info": {
   "codemirror_mode": {
    "name": "ipython",
    "version": 3
   },
   "file_extension": ".py",
   "mimetype": "text/x-python",
   "name": "python",
   "nbconvert_exporter": "python",
   "pygments_lexer": "ipython3",
   "version": "3.12.4"
  }
 },
 "nbformat": 4,
 "nbformat_minor": 2
}
