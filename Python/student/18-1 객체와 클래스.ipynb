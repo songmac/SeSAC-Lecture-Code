{
 "cells": [
  {
   "cell_type": "markdown",
   "metadata": {},
   "source": [
    "# 객체와 클래스"
   ]
  },
  {
   "cell_type": "code",
   "execution_count": 18,
   "metadata": {},
   "outputs": [
    {
     "name": "stdout",
     "output_type": "stream",
     "text": [
      "------choco 활동 이력------\n",
      "밥먹음  -10\n",
      "밥먹음  -20\n",
      "산책  -10\n",
      "------choco랑 jjong 상태------\n",
      "choco 배고픔 :  -10\n",
      "jjong 배고픔 :  0\n"
     ]
    }
   ],
   "source": [
    "class Dog:\n",
    "    def __init__(self, name, color):\n",
    "        self.hungry = 0 # 인스턴스 속성(=객체 변수)\n",
    "        self.name = name\n",
    "        self.color = color\n",
    "\n",
    "    def eat(self): # 인스턴스 메서드\n",
    "        self.hungry -= 10\n",
    "        print(\"밥먹음 \", self.hungry)\n",
    "    \n",
    "    def walk(self):\n",
    "        self.hungry += 10\n",
    "        print(\"산책 \", self.hungry)\n",
    "\n",
    "\n",
    "choco = Dog(\"choco\", \"black\") # 인스턴스 생성(=객체)\n",
    "jjong = Dog(\"jjong\", \"white\")\n",
    "\n",
    "print(\"------choco 활동 이력------\")\n",
    "choco.eat() # 메서드 호출\n",
    "choco.eat()\n",
    "choco.walk()\n",
    "\n",
    "print(\"------choco랑 jjong 상태------\")\n",
    "print(\"choco 배고픔 : \", choco.hungry) # 인스턴스 속성 접근 및 출력\n",
    "print(\"jjong 배고픔 : \", jjong.hungry)"
   ]
  },
  {
   "cell_type": "markdown",
   "metadata": {},
   "source": [
    "### 비공개 속성 (private attribute)"
   ]
  },
  {
   "cell_type": "code",
   "execution_count": 14,
   "metadata": {},
   "outputs": [
    {
     "name": "stdout",
     "output_type": "stream",
     "text": [
      "------mery 활동 이력------\n",
      "배가 너무 불러요!\n",
      "산책  10\n",
      "산책  20\n",
      "------mery 상태------\n",
      "mery 배고픔 : 20\n"
     ]
    }
   ],
   "source": [
    "class Dog:\n",
    "    def __init__(self, name, color):\n",
    "        self.name = name\n",
    "        self.color = color\n",
    "        self.__hungry = 0 # 비공개 속성\n",
    "    \n",
    "    def eat(self):\n",
    "        if self.__hungry <= 0:\n",
    "            print(\"배가 너무 불러요!\")\n",
    "        else:\n",
    "            self.__hungry -= 10\n",
    "            print(\"밥먹음 \", self.__hungry)\n",
    "\n",
    "    def walk(self):\n",
    "        self.__hungry += 10\n",
    "        print(\"산책 \", self.__hungry)\n",
    "\n",
    "    def condition(self):\n",
    "        print(f\"{self.name} 배고픔 : {self.__hungry}\")\n",
    "\n",
    "\n",
    "mery = Dog(\"mery\", \"black\")\n",
    "print(\"------mery 활동 이력------\")\n",
    "mery.eat()\n",
    "mery.walk()\n",
    "mery.walk()\n",
    "\n",
    "print(\"------mery 상태------\")\n",
    "mery.condition()\n",
    "\n",
    "# mery.__hungry += 100 # 오류"
   ]
  },
  {
   "cell_type": "markdown",
   "metadata": {},
   "source": [
    "### 클래스 속성 (class attribute)"
   ]
  },
  {
   "cell_type": "code",
   "execution_count": 2,
   "metadata": {},
   "outputs": [
    {
     "name": "stdout",
     "output_type": "stream",
     "text": [
      "총 강아지는 :  1\n",
      "총 강아지는 :  2\n"
     ]
    }
   ],
   "source": [
    "class Dog:\n",
    "    dog_count = 0\n",
    "\n",
    "    def __init__(self, name, color):\n",
    "        self.name = name\n",
    "        self.color = color\n",
    "        Dog.dog_count += 1 \n",
    "\n",
    "    def dogCount(self):\n",
    "        print(\"총 강아지는 : \", Dog.dog_count)\n",
    "\n",
    "hello = Dog(\"hello\", \"black\")\n",
    "hello.dogCount()\n",
    "happy = Dog(\"happy\",\" black\")\n",
    "happy.dogCount()"
   ]
  },
  {
   "cell_type": "markdown",
   "metadata": {},
   "source": [
    "### 정적 메서드 (static method)"
   ]
  },
  {
   "cell_type": "code",
   "execution_count": 19,
   "metadata": {},
   "outputs": [
    {
     "name": "stdout",
     "output_type": "stream",
     "text": [
      "30\n"
     ]
    }
   ],
   "source": [
    "class Calc:\n",
    "    @staticmethod\n",
    "    def add(a, b):\n",
    "        print(a + b)\n",
    "\n",
    "Calc.add(10, 20)"
   ]
  },
  {
   "cell_type": "markdown",
   "metadata": {},
   "source": [
    "### 클래스 메서드 (class Method)"
   ]
  },
  {
   "cell_type": "code",
   "execution_count": 20,
   "metadata": {},
   "outputs": [
    {
     "name": "stdout",
     "output_type": "stream",
     "text": [
      "30\n",
      "계산된 횟수 :  1\n",
      "70\n",
      "계산된 횟수 :  2\n"
     ]
    }
   ],
   "source": [
    "class Calc:\n",
    "    count = 0\n",
    "    @classmetho\n",
    "    def add(cls, a, b): \n",
    "        print(a + b)\n",
    "        cls.count += 1\n",
    "        print(\"계산된 횟수 : \", cls.count)\n",
    "\n",
    "Calc.add(10, 20)\n",
    "Calc.add(30, 40)"
   ]
  },
  {
   "cell_type": "markdown",
   "metadata": {},
   "source": [
    "### 상속"
   ]
  },
  {
   "cell_type": "code",
   "execution_count": 1,
   "metadata": {},
   "outputs": [
    {
     "name": "stdout",
     "output_type": "stream",
     "text": [
      "멍멍\n",
      "산책  10\n",
      "산책  20\n",
      "야옹\n",
      "산책  10\n"
     ]
    }
   ],
   "source": [
    "class Animal:\n",
    "    \n",
    "    def __init__(self):\n",
    "        self.hungry = 0\n",
    "    \n",
    "    def eat(self): \n",
    "        self.hungry -= 10\n",
    "        print(\"밥먹음 \", self.hungry)\n",
    "    def walk(self): \n",
    "        self.hungry += 10\n",
    "        print(\"산책 \", self.hungry)\n",
    "\n",
    "class Dog(Animal):\n",
    "    \n",
    "    def __init__(self):\n",
    "        super().__init__() \n",
    "    \n",
    "    def sound(self):\n",
    "        print(\"멍멍\")\n",
    "        \n",
    "class Cat(Animal):\n",
    "    \n",
    "    def __init__(self):\n",
    "        super().__init__()\n",
    "    \n",
    "    def sound(self):\n",
    "        print(\"야옹\")\n",
    "    \n",
    "dog = Dog()\n",
    "dog.sound()\n",
    "dog.walk()\n",
    "dog.walk()\n",
    "\n",
    "cat = Cat()\n",
    "cat.sound()\n",
    "cat.walk()"
   ]
  },
  {
   "cell_type": "markdown",
   "metadata": {},
   "source": [
    "### 오버라이딩"
   ]
  },
  {
   "cell_type": "code",
   "execution_count": 22,
   "metadata": {},
   "outputs": [
    {
     "name": "stdout",
     "output_type": "stream",
     "text": [
      "밥먹음  -10\n",
      "왈왈\n"
     ]
    }
   ],
   "source": [
    "class Animal:\n",
    "    \n",
    "    def __init__(self):\n",
    "        self.hungry = 0\n",
    "    \n",
    "    def eat(self):\n",
    "        self.hungry -= 10\n",
    "        print(\"밥먹음 \", self.hungry)\n",
    "        \n",
    "    def walk(self):\n",
    "        self.hungry += 10\n",
    "        print(\"산책 \", self.hungry)\n",
    "\n",
    "class Dog(Animal):\n",
    "    \n",
    "    def __init__(self):\n",
    "        super().__init__()\n",
    "    \n",
    "    def sound(self):\n",
    "        print(\"멍멍\")\n",
    "        \n",
    "    def eat(self):\n",
    "        super().eat() \n",
    "        print(\"왈왈\")\n",
    "    \n",
    "dog = Dog()\n",
    "dog.eat()"
   ]
  },
  {
   "cell_type": "markdown",
   "metadata": {},
   "source": [
    "### 추상클래스"
   ]
  },
  {
   "cell_type": "code",
   "execution_count": 4,
   "metadata": {},
   "outputs": [
    {
     "name": "stdout",
     "output_type": "stream",
     "text": [
      "멍멍\n",
      "밥먹음  -10\n",
      "왈왈\n"
     ]
    }
   ],
   "source": [
    "from abc import *\n",
    "\n",
    "class Animal(metaclass=ABCMeta):\n",
    "    \n",
    "    def __init__(self):\n",
    "        self.hungry = 0\n",
    "    \n",
    "    def eat(self):\n",
    "        self.hungry -= 10\n",
    "        print(\"밥먹음 \", self.hungry)\n",
    "    def walk(self):\n",
    "        self.hungry += 10\n",
    "        print(\"산책 \", self.hungry)\n",
    "        \n",
    "    @abstractmethod\n",
    "    def sound(self):\n",
    "        pass\n",
    "\n",
    "class Dog(Animal):\n",
    "    \n",
    "    def __init__(self):\n",
    "        super().__init__()\n",
    "    \n",
    "    def sound(self):\n",
    "        print(\"멍멍\")\n",
    "\n",
    "    def eat(self):\n",
    "        super().eat()\n",
    "        print(\"왈왈\")\n",
    "    \n",
    "dog = Dog()\n",
    "dog.sound()\n",
    "dog.eat()"
   ]
  },
  {
   "cell_type": "markdown",
   "metadata": {},
   "source": [
    "### static method, class method 차이점2"
   ]
  },
  {
   "cell_type": "code",
   "execution_count": 24,
   "metadata": {},
   "outputs": [
    {
     "name": "stdout",
     "output_type": "stream",
     "text": [
      "동물\n",
      "강아지\n"
     ]
    }
   ],
   "source": [
    "class Animal:\n",
    "\n",
    "    type = \"동물\"\n",
    "\n",
    "    @staticmethod \n",
    "    def getType1():\n",
    "        return Animal.type\n",
    "\n",
    "    @classmethod\n",
    "    def getType2(cls):\n",
    "        return cls.type\n",
    "\n",
    "    def __init__(self):\n",
    "        self.hungry = 0\n",
    "\n",
    "class Dog(Animal):\n",
    "    \n",
    "    type = \"강아지\"\n",
    "\n",
    "    def __init__(self):\n",
    "        super().__init__()\n",
    "\n",
    "    def sound(self):\n",
    "        print(\"멍멍\")\n",
    "\n",
    "print(Dog.getType1()) \n",
    "print(Dog.getType2())"
   ]
  }
 ],
 "metadata": {
  "kernelspec": {
   "display_name": "Python 3 (ipykernel)",
   "language": "python",
   "name": "python3"
  },
  "language_info": {
   "codemirror_mode": {
    "name": "ipython",
    "version": 3
   },
   "file_extension": ".py",
   "mimetype": "text/x-python",
   "name": "python",
   "nbconvert_exporter": "python",
   "pygments_lexer": "ipython3",
   "version": "3.12.4"
  }
 },
 "nbformat": 4,
 "nbformat_minor": 2
}
