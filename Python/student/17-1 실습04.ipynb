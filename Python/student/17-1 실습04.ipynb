{
 "cells": [
  {
   "cell_type": "code",
   "execution_count": 1,
   "metadata": {},
   "outputs": [
    {
     "data": {
      "text/plain": [
       "['불합격', '불합격', '대기', '불합격', '불합격', '불합격', '합격', '대기']"
      ]
     },
     "execution_count": 1,
     "metadata": {},
     "output_type": "execute_result"
    }
   ],
   "source": [
    "numbers = [12, 32, 55, 12, 32, 4, 86, 50]\n",
    "\n",
    "list(map(lambda x: '합격' if x > 60 else '대기' if 50 <= x <= 60 else '불합격', numbers))"
   ]
  },
  {
   "cell_type": "code",
   "execution_count": 2,
   "metadata": {},
   "outputs": [
    {
     "data": {
      "text/plain": [
       "['1.jpg', '23.jpg', '223.jpg']"
      ]
     },
     "execution_count": 2,
     "metadata": {},
     "output_type": "execute_result"
    }
   ],
   "source": [
    "files = ['memo.txt', '1.jpg', '32.png', '23.jpg', '223.jpg']\n",
    "list(filter(lambda x: x.find(\"jpg\") != -1, files))"
   ]
  },
  {
   "cell_type": "code",
   "execution_count": 3,
   "metadata": {},
   "outputs": [
    {
     "name": "stdout",
     "output_type": "stream",
     "text": [
      "['1.jpg', '23.jpg', '223.jpg']\n"
     ]
    }
   ],
   "source": [
    "files = [\"memo.txt\", \"1.jpg\", \"32.png\", \"23.jpg\", \"223.jpg\"]\n",
    "\n",
    "jpg_files = list(filter(lambda x: x.endswith('.jpg'), files))\n",
    "print(jpg_files)"
   ]
  }
 ],
 "metadata": {
  "kernelspec": {
   "display_name": "Python 3 (ipykernel)",
   "language": "python",
   "name": "python3"
  },
  "language_info": {
   "codemirror_mode": {
    "name": "ipython",
    "version": 3
   },
   "file_extension": ".py",
   "mimetype": "text/x-python",
   "name": "python",
   "nbconvert_exporter": "python",
   "pygments_lexer": "ipython3",
   "version": "3.12.4"
  }
 },
 "nbformat": 4,
 "nbformat_minor": 2
}
