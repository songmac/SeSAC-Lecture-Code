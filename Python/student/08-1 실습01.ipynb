{
 "cells": [
  {
   "cell_type": "code",
   "execution_count": 5,
   "metadata": {},
   "outputs": [
    {
     "name": "stdout",
     "output_type": "stream",
     "text": [
      "{'이름': '홍길동', '나이': 27, '연락처': '010-3023-1223'}\n"
     ]
    }
   ],
   "source": [
    "name = input(\"이름을 입력해주세요 : \")\n",
    "age = int(input(\"나이를 입력해주세요 : \"))\n",
    "phone = input(\"연락처를 입력해주세요\")\n",
    "\n",
    "dict1 = {'이름': name, '나이': age, '연락처':phone}\n",
    "print(dict1)"
   ]
  },
  {
   "cell_type": "code",
   "execution_count": 1,
   "metadata": {},
   "outputs": [
    {
     "name": "stdout",
     "output_type": "stream",
     "text": [
      "[{'이름': '홍길동', '나이': '27', '연락처': '010-3023-1223'}, {'이름': '이몽룡', '나이': '30', '연락처': '010-3030-4434'}]\n"
     ]
    }
   ],
   "source": [
    "name = input(\"이름을 입력해주세요 : \")\n",
    "age = input(\"나이를 입력해주세요 : \")\n",
    "cellphone = input(\"연락처를 입력해주세요 : \")\n",
    "dict1 = {\"이름\":name, \"나이\":age, \"연락처\":cellphone}\n",
    "\n",
    "name = input(\"이름을 입력해주세요 : \")\n",
    "age = input(\"나이를 입력해주세요 : \")\n",
    "cellphone = input(\"연락처를 입력해주세요 : \")\n",
    "dict2 = {\"이름\":name, \"나이\":age, \"연락처\":cellphone}\n",
    "\n",
    "lists = []\n",
    "lists.extend([dict1, dict2])\n",
    "\n",
    "print(lists)"
   ]
  }
 ],
 "metadata": {
  "kernelspec": {
   "display_name": "Python 3 (ipykernel)",
   "language": "python",
   "name": "python3"
  },
  "language_info": {
   "codemirror_mode": {
    "name": "ipython",
    "version": 3
   },
   "file_extension": ".py",
   "mimetype": "text/x-python",
   "name": "python",
   "nbconvert_exporter": "python",
   "pygments_lexer": "ipython3",
   "version": "3.12.4"
  }
 },
 "nbformat": 4,
 "nbformat_minor": 2
}
