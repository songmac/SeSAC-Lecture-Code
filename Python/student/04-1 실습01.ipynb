{
 "cells": [
  {
   "cell_type": "code",
   "execution_count": 1,
   "metadata": {},
   "outputs": [
    {
     "name": "stdout",
     "output_type": "stream",
     "text": [
      "50\n",
      "600\n"
     ]
    }
   ],
   "source": [
    "x = input(\"x 값을 입력해주세요 : \")\n",
    "y = input(\"y 값을 입력해주세요 : \")\n",
    "\n",
    "print(int(x) + int(y))\n",
    "print(int(x) * int(y))"
   ]
  },
  {
   "cell_type": "code",
   "execution_count": 2,
   "metadata": {},
   "outputs": [
    {
     "name": "stdout",
     "output_type": "stream",
     "text": [
      "50\n",
      "600\n"
     ]
    }
   ],
   "source": [
    "x = int(input(\"x 값을 입력해주세요 : \"))\n",
    "y = int(input(\"y 값을 입력해주세요 : \"))\n",
    "\n",
    "print(x + y)\n",
    "print(x * y)"
   ]
  }
 ],
 "metadata": {
  "kernelspec": {
   "display_name": "Python 3 (ipykernel)",
   "language": "python",
   "name": "python3"
  }
 },
 "nbformat": 4,
 "nbformat_minor": 2
}
