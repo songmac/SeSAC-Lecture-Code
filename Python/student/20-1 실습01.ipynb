{
 "cells": [
  {
   "cell_type": "code",
   "execution_count": 12,
   "metadata": {},
   "outputs": [
    {
     "name": "stdout",
     "output_type": "stream",
     "text": [
      "7\n",
      "1\n",
      "4.0\n"
     ]
    }
   ],
   "source": [
    "import pklist.calclist as pkl\n",
    "\n",
    "pkl.list_max([1,2,3],[5,6,7],[4,3,2,5,6])\n",
    "pkl.list_min([1,2,3],[5,6,7],[4,3,2,5,6])\n",
    "pkl.list_avg([1,2,3],[5,6,7],[4,3,2,5,6])\n"
   ]
  }
 ],
 "metadata": {
  "kernelspec": {
   "display_name": "Python 3 (ipykernel)",
   "language": "python",
   "name": "python3"
  }
 },
 "nbformat": 4,
 "nbformat_minor": 2
}
