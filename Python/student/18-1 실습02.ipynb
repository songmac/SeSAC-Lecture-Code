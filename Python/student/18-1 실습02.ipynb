{
 "cells": [
  {
   "cell_type": "markdown",
   "metadata": {},
   "source": [
    "1. Character 클래스를 만들어주세요"
   ]
  },
  {
   "cell_type": "code",
   "execution_count": 1,
   "metadata": {},
   "outputs": [],
   "source": [
    "\"\"\"\n",
    "클래스 명: Character\n",
    "    - 속성 : health (초기값 200)\n",
    "    - 메서드 : move (health -10), rest (health +10), checkHealth (현재 health 반환)\n",
    "\n",
    "상속 클래스명 : Knight, Healer\n",
    "    1) Knight\n",
    "        - 속성 : health (부모 클래스에서 상속)\n",
    "        - 메서드 : move (health -15, 오버라이드), attack (\"공격합니다\" 출력)\n",
    "\n",
    "    2) Healer\n",
    "        - 속성 : health (부모 클래스에서 상속), mana (초기값 100)\n",
    "        - 메서드 : heal(character) (mana -10, character의 rest() 메서드 호출), checkMana (현재 mana 반환)\n",
    "\n",
    "\"\"\"\n",
    "\n",
    "\n",
    "class Character:\n",
    "    def __init__(self):\n",
    "        self.health = 200 \n",
    "\n",
    "    def move(self):\n",
    "        self.health -= 10  \n",
    "\n",
    "    def rest(self):\n",
    "        self.health += 10 \n",
    "\n",
    "    def checkHealth(self):\n",
    "        return self.health \n"
   ]
  },
  {
   "cell_type": "markdown",
   "metadata": {},
   "source": [
    "2. Knight와 Healer 클래스를 만들어주세요."
   ]
  },
  {
   "cell_type": "code",
   "execution_count": 2,
   "metadata": {},
   "outputs": [],
   "source": [
    "class Knight(Character):\n",
    "    def move(self):\n",
    "        super().move()\n",
    "        self.health -= 5\n",
    "\n",
    "    def attack(self):\n",
    "        print(\"공격합니다\") \n",
    "\n",
    "\n",
    "class Healer(Character):\n",
    "    def __init__(self):\n",
    "        super().__init__()\n",
    "        self.mana = 100 \n",
    "\n",
    "    def heal(self, character):\n",
    "        if self.mana >= 10:\n",
    "            self.mana -= 10  \n",
    "            character.rest()  \n",
    "        else:\n",
    "            print(\"마나가 부족합니다\")\n",
    "\n",
    "    def checkMana(self):\n",
    "        return self.mana  # 현재 Mana 값 반환"
   ]
  },
  {
   "cell_type": "code",
   "execution_count": 4,
   "metadata": {},
   "outputs": [
    {
     "name": "stdout",
     "output_type": "stream",
     "text": [
      "karina 초기 체력: 200\n",
      "karina 이동 후 체력: 190\n",
      "karina 휴식 후 체력: 200\n",
      "\n",
      "Knight 초기 체력: 200\n",
      "Knight 이동 후 체력: 185\n",
      "공격합니다\n",
      "\n",
      "Healer 초기 체력: 200\n",
      "Healer 초기 마나: 100\n",
      "Healer 이동 후 체력: 190\n",
      "Healer 치유 후 마나: 90\n",
      "Karina 치유 후 체력: 210\n"
     ]
    }
   ],
   "source": [
    "# Character 클래스 테스트\n",
    "karina = Character()\n",
    "print(\"karina 초기 체력:\", karina.checkHealth())\n",
    "karina.move()\n",
    "print(\"karina 이동 후 체력:\", karina.checkHealth())\n",
    "karina.rest()\n",
    "print(\"karina 휴식 후 체력:\", karina.checkHealth())\n",
    "\n",
    "# Knight 클래스 테스트\n",
    "knight = Knight()\n",
    "print(\"\\nKnight 초기 체력:\", knight.checkHealth())\n",
    "knight.move()\n",
    "print(\"Knight 이동 후 체력:\", knight.checkHealth())\n",
    "knight.attack()\n",
    "\n",
    "# Healer 클래스 테스트\n",
    "healer = Healer()\n",
    "print(\"\\nHealer 초기 체력:\", healer.checkHealth())\n",
    "print(\"Healer 초기 마나:\", healer.checkMana())\n",
    "healer.move()\n",
    "print(\"Healer 이동 후 체력:\", healer.checkHealth())\n",
    "healer.heal(karina)\n",
    "print(\"Healer 치유 후 마나:\", healer.checkMana())\n",
    "print(\"Karina 치유 후 체력:\", karina.checkHealth())\n"
   ]
  },
  {
   "cell_type": "code",
   "execution_count": null,
   "metadata": {},
   "outputs": [],
   "source": []
  }
 ],
 "metadata": {
  "kernelspec": {
   "display_name": "Python 3 (ipykernel)",
   "language": "python",
   "name": "python3"
  },
  "language_info": {
   "codemirror_mode": {
    "name": "ipython",
    "version": 3
   },
   "file_extension": ".py",
   "mimetype": "text/x-python",
   "name": "python",
   "nbconvert_exporter": "python",
   "pygments_lexer": "ipython3",
   "version": "3.12.4"
  }
 },
 "nbformat": 4,
 "nbformat_minor": 2
}
