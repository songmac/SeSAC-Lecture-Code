{
 "cells": [
  {
   "cell_type": "markdown",
   "metadata": {},
   "source": [
    "# 조건문 if"
   ]
  },
  {
   "cell_type": "code",
   "execution_count": 1,
   "metadata": {},
   "outputs": [
    {
     "name": "stdout",
     "output_type": "stream",
     "text": [
      "x 가 10 입니다\n"
     ]
    }
   ],
   "source": [
    "x = 10\n",
    "if x == 10:\n",
    "    print(\"x 가 10 입니다\")"
   ]
  },
  {
   "cell_type": "markdown",
   "metadata": {},
   "source": [
    "### 생략"
   ]
  },
  {
   "cell_type": "code",
   "execution_count": 2,
   "metadata": {},
   "outputs": [],
   "source": [
    "if x == 10:\n",
    "    pass"
   ]
  },
  {
   "cell_type": "markdown",
   "metadata": {},
   "source": [
    "### if 문 들여쓰기"
   ]
  },
  {
   "cell_type": "code",
   "execution_count": 4,
   "metadata": {},
   "outputs": [
    {
     "name": "stdout",
     "output_type": "stream",
     "text": [
      "x가 10입니다.\n",
      "x가 12가 아닙니다\n",
      "if문 밖\n"
     ]
    }
   ],
   "source": [
    "x = 10\n",
    "if x == 10:\n",
    "    print(\"x가 10입니다.\")\n",
    "    print(\"x가 12가 아닙니다\")\n",
    "#         print(\"x 가 10 입니다\") #error\n",
    "#  print(\"x가 10입니다\") #error\n",
    "print(\"if문 밖\") #if 문과는 상관없음\n"
   ]
  },
  {
   "cell_type": "markdown",
   "metadata": {},
   "source": [
    "### 다양한 조건들"
   ]
  },
  {
   "cell_type": "code",
   "execution_count": 5,
   "metadata": {},
   "outputs": [
    {
     "name": "stdout",
     "output_type": "stream",
     "text": [
      "x 가 3보다 크다\n",
      "x 가 2보다 크고 10 보다 작다\n",
      "x 는 0보다 크고 20 보다 작다\n"
     ]
    }
   ],
   "source": [
    "x = 8\n",
    "\n",
    "if x > 3:\n",
    "    print(\"x 가 3보다 크다\")\n",
    "\n",
    "if x > 2 and x < 10:\n",
    "    print(\"x 가 2보다 크고 10 보다 작다\")\n",
    "\n",
    "if 0 < x < 20:\n",
    "    print(\"x 는 0보다 크고 20 보다 작다\")"
   ]
  },
  {
   "cell_type": "markdown",
   "metadata": {},
   "source": [
    "### 중첩 if 문"
   ]
  },
  {
   "cell_type": "code",
   "execution_count": 6,
   "metadata": {},
   "outputs": [
    {
     "name": "stdout",
     "output_type": "stream",
     "text": [
      "20초과 30이하\n"
     ]
    }
   ],
   "source": [
    "x = 25\n",
    "\n",
    "if x >= 10:\n",
    "    if x <= 20:\n",
    "        print(\"10이상 20이하\")\n",
    "    if x <= 30:\n",
    "        print(\"20초과 30이하\")"
   ]
  },
  {
   "cell_type": "markdown",
   "metadata": {},
   "source": [
    "### elif 와 else"
   ]
  },
  {
   "cell_type": "code",
   "execution_count": 7,
   "metadata": {},
   "outputs": [
    {
     "name": "stdout",
     "output_type": "stream",
     "text": [
      "x 는 B\n"
     ]
    }
   ],
   "source": [
    "x = \"B\"\n",
    "\n",
    "if x == \"A\":\n",
    "    print(\"x 는 A\")\n",
    "elif x == \"B\":\n",
    "    print(\"x 는 B\")\n",
    "elif x == \"C\":\n",
    "    print(\"x 는 C\")\n",
    "else:\n",
    "    print(\"x 는 A, B, C 가 아님\")"
   ]
  }
 ],
 "metadata": {
  "kernelspec": {
   "display_name": "Python 3 (ipykernel)",
   "language": "python",
   "name": "python3"
  },
  "language_info": {
   "codemirror_mode": {
    "name": "ipython",
    "version": 3
   },
   "file_extension": ".py",
   "mimetype": "text/x-python",
   "name": "python",
   "nbconvert_exporter": "python",
   "pygments_lexer": "ipython3",
   "version": "3.12.4"
  }
 },
 "nbformat": 4,
 "nbformat_minor": 2
}
