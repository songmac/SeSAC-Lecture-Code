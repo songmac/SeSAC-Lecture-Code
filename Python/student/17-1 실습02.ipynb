{
 "cells": [
  {
   "cell_type": "code",
   "execution_count": 11,
   "metadata": {},
   "outputs": [
    {
     "name": "stdout",
     "output_type": "stream",
     "text": [
      "15\n",
      "120\n"
     ]
    }
   ],
   "source": [
    "def calc(operation, *args):\n",
    "    if operation == '+':\n",
    "        return sum(args)\n",
    "    elif operation == '*':\n",
    "        result = 1\n",
    "        for arg in args:\n",
    "            result *= arg\n",
    "        return result\n",
    "\n",
    "print(calc(\"+\", 1, 2, 3, 4, 5))\n",
    "print(calc(\"*\", 1, 2, 3, 4, 5))\n"
   ]
  }
 ],
 "metadata": {
  "kernelspec": {
   "display_name": "Python 3 (ipykernel)",
   "language": "python",
   "name": "python3"
  }
 },
 "nbformat": 4,
 "nbformat_minor": 2
}
