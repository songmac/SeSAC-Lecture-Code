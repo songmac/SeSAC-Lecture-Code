{
 "cells": [
  {
   "cell_type": "code",
   "execution_count": 4,
   "metadata": {},
   "outputs": [
    {
     "name": "stdout",
     "output_type": "stream",
     "text": [
      "불합격\n"
     ]
    }
   ],
   "source": [
    "score1 = int(input(\"첫번째 점수를 입력해주세요 : \"))\n",
    "score2 = int(input(\"두번째 점수를 입력해주세요 : \"))\n",
    "score3 = int(input(\"세번째 점수를 입력해주세요 : \"))\n",
    "\n",
    "if not(0 <= score1 <= 100) or not(0 <= score2 <= 100) or not(0 <= score3 <= 100):\n",
    "    print(\"잘못된 점수가 입력되었습니다\")\n",
    "elif (score1 > 65) and (score2 > 65) and (score3 > 65):\n",
    "    print(\"합격\")\n",
    "else:\n",
    "    print(\"불합격\")   "
   ]
  }
 ],
 "metadata": {
  "kernelspec": {
   "display_name": "Python 3 (ipykernel)",
   "language": "python",
   "name": "python3"
  },
  "language_info": {
   "codemirror_mode": {
    "name": "ipython",
    "version": 3
   },
   "file_extension": ".py",
   "mimetype": "text/x-python",
   "name": "python",
   "nbconvert_exporter": "python",
   "pygments_lexer": "ipython3",
   "version": "3.12.4"
  }
 },
 "nbformat": 4,
 "nbformat_minor": 2
}
