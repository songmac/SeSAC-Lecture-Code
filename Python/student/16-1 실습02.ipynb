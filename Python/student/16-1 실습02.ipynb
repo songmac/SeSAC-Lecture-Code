{
 "cells": [
  {
   "cell_type": "code",
   "execution_count": 2,
   "metadata": {},
   "outputs": [],
   "source": [
    "import pickle\n",
    "\n",
    "# 파일에 초기화용\n",
    "std_score = []\n",
    "\n",
    "with open('std_score.p', 'wb') as file:\n",
    "    pickle.dump(std_score, file)"
   ]
  },
  {
   "cell_type": "code",
   "execution_count": 6,
   "metadata": {},
   "outputs": [
    {
     "name": "stdout",
     "output_type": "stream",
     "text": [
      "[0] 이름: 2, 수학: 3, 과학: 2, 영어: 2\n",
      "\n"
     ]
    }
   ],
   "source": [
    "# 메인 프로그램\n",
    "import pickle\n",
    "\n",
    "with open('std_score.p', 'rb') as file:\n",
    "    std_score = pickle.load(file)\n",
    "    for idx, val in enumerate(std_score):\n",
    "        print(f\"[{idx}] 이름: {val['name']}, 수학: {val['math']}, 과학: {val['science']}, 영어: {val['english']}\")\n",
    "    print()\n",
    "\n",
    "while True:    \n",
    "    user = int(input(\"메뉴를 선택해주세요 (1 - 입력, 2 - 조회, 3 - 삭제, 0 - 종료) : \"))\n",
    "    \n",
    "    if user in [0, 1, 2, 3]: \n",
    "        if user == 1:\n",
    "            name = input(\"이름 : \")\n",
    "            math = int(input(\"수학 : \"))\n",
    "            science = int(input(\"과학 : \"))\n",
    "            english = int(input(\"영어 : \"))\n",
    "            std = {'name': name, 'math': math, 'science': science, 'english': english} \n",
    "            std_score.append(std)\n",
    "\n",
    "        elif user == 2:\n",
    "            for idx, val in enumerate(std_score):\n",
    "                print(f\"[{idx}] 이름: {val['name']}, 수학: {val['math']}, 과학: {val['science']}, 영어: {val['english']}\")\n",
    "\n",
    "        elif user == 3:\n",
    "            del_idx = int(input(\"삭제할 번호를 입력해주세요 : \"))        \n",
    "            if 0 <= del_idx < len(std_score):\n",
    "                std_score.pop(del_idx)\n",
    "                print(\"삭제가 완료되었습니다.\")\n",
    "            else:\n",
    "                print(\"잘못된 번호입니다.\")\n",
    "\n",
    "        elif user == 0:\n",
    "            print(\"종료되었습니다.\")\n",
    "            break\n",
    "        \n",
    "    else:\n",
    "        print(\"잘못 입력하셨습니다. 다시 입력하세요.\")\n",
    "        continue\n",
    "\n",
    "    with open('std_score.p', 'wb') as file:\n",
    "        pickle.dump(std_score, file)\n"
   ]
  }
 ],
 "metadata": {
  "kernelspec": {
   "display_name": "Python 3 (ipykernel)",
   "language": "python",
   "name": "python3"
  },
  "language_info": {
   "codemirror_mode": {
    "name": "ipython",
    "version": 3
   },
   "file_extension": ".py",
   "mimetype": "text/x-python",
   "name": "python",
   "nbconvert_exporter": "python",
   "pygments_lexer": "ipython3",
   "version": "3.12.4"
  }
 },
 "nbformat": 4,
 "nbformat_minor": 2
}
