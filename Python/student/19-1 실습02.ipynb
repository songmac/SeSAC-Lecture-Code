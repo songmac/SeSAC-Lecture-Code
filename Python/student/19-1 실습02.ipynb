{
 "cells": [
  {
   "cell_type": "code",
   "execution_count": 1,
   "metadata": {},
   "outputs": [],
   "source": [
    "class NotNumber(Exception):\n",
    "    \n",
    "    def __init__(self):\n",
    "        super().__init__(\"잘못된 숫자입니다.\") \n",
    "        \n",
    "def gugudan(num):\n",
    "    if not (1 <= num <= 9):\n",
    "        raise NotNumber\n",
    "    \n",
    "    for i in range(1, 10):\n",
    "        print(f\"{num} X {i} = {num*i}\")"
   ]
  },
  {
   "cell_type": "code",
   "execution_count": 2,
   "metadata": {},
   "outputs": [
    {
     "name": "stdout",
     "output_type": "stream",
     "text": [
      "2 X 1 = 2\n",
      "2 X 2 = 4\n",
      "2 X 3 = 6\n",
      "2 X 4 = 8\n",
      "2 X 5 = 10\n",
      "2 X 6 = 12\n",
      "2 X 7 = 14\n",
      "2 X 8 = 16\n",
      "2 X 9 = 18\n"
     ]
    }
   ],
   "source": [
    "try:\n",
    "    gugudan(2)\n",
    "except NotNumber as e:\n",
    "    print(\"NotNumber:\", e)"
   ]
  },
  {
   "cell_type": "code",
   "execution_count": 3,
   "metadata": {},
   "outputs": [
    {
     "name": "stdout",
     "output_type": "stream",
     "text": [
      "NotNumber: 잘못된 숫자입니다.\n"
     ]
    }
   ],
   "source": [
    "try:\n",
    "    gugudan(10)\n",
    "except NotNumber as e:\n",
    "    print(\"NotNumber:\", e)"
   ]
  }
 ],
 "metadata": {
  "kernelspec": {
   "display_name": "Python 3 (ipykernel)",
   "language": "python",
   "name": "python3"
  },
  "language_info": {
   "codemirror_mode": {
    "name": "ipython",
    "version": 3
   },
   "file_extension": ".py",
   "mimetype": "text/x-python",
   "name": "python",
   "nbconvert_exporter": "python",
   "pygments_lexer": "ipython3",
   "version": "3.12.4"
  }
 },
 "nbformat": 4,
 "nbformat_minor": 2
}
